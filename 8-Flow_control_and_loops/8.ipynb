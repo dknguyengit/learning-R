{
 "cells": [
  {
   "cell_type": "code",
   "execution_count": 1,
   "metadata": {},
   "outputs": [
    {
     "name": "stderr",
     "output_type": "stream",
     "text": [
      "It was true\n"
     ]
    }
   ],
   "source": [
    "if (TRUE) message('It was true')"
   ]
  },
  {
   "cell_type": "code",
   "execution_count": 2,
   "metadata": {
    "collapsed": true
   },
   "outputs": [],
   "source": [
    "if (FALSE) message(\"It wasn't true\")"
   ]
  },
  {
   "cell_type": "code",
   "execution_count": 41,
   "metadata": {},
   "outputs": [
    {
     "data": {
      "text/html": [
       "8"
      ],
      "text/latex": [
       "8"
      ],
      "text/markdown": [
       "8"
      ],
      "text/plain": [
       "[1] 8"
      ]
     },
     "metadata": {},
     "output_type": "display_data"
    }
   ],
   "source": [
    "two_d6 <- function(n) {\n",
    "    random_numbers <- matrix(\n",
    "        sample(6, 2 * n, replace = TRUE),\n",
    "        nrow = 2\n",
    "    )\n",
    "    return(colSums(random_numbers))\n",
    "}\n",
    "\n",
    "two_d6(1)"
   ]
  },
  {
   "cell_type": "code",
   "execution_count": 52,
   "metadata": {
    "collapsed": true
   },
   "outputs": [],
   "source": [
    "# 8.1\n",
    "status_and_point <- function(score) {\n",
    "    if(score %in% c(2, 3, 12)){\n",
    "        return(list(FALSE, NA))\n",
    "    } else if(score %in% c(7, 11)){\n",
    "        return(list(TRUE, NA))\n",
    "    } else if(score %in% c(4, 5, 6, 8, 9, 10)){\n",
    "        return(list(NA, score))\n",
    "    }\n",
    "    }\n",
    "\n",
    "status <- status_and_point(two_d6(1))[[1]]\n",
    "point <- status_and_point(two_d6(1))[[2]]"
   ]
  },
  {
   "cell_type": "code",
   "execution_count": 81,
   "metadata": {},
   "outputs": [
    {
     "name": "stdout",
     "output_type": "stream",
     "text": [
      "score: 5 \n",
      "status: NA \n",
      "point: 5 \n",
      "Rolling again\n",
      "new score: 11 \n",
      "new score: 8 \n",
      "new score: 8 \n",
      "new score: 4 \n",
      "new score: 11 \n",
      "new score: 3 \n",
      "new score: 9 \n",
      "new score: 8 \n",
      "new score: 8 \n",
      "new score: 5 \n",
      "final status: TRUE \n"
     ]
    }
   ],
   "source": [
    "# 8.2\n",
    "score <- two_d6(1)\n",
    "status <- status_and_point(score)[[1]]\n",
    "point <- status_and_point(score)[[2]]\n",
    "cat('score:', score, '\\n')\n",
    "cat('status:', status, '\\n')\n",
    "cat('point:', point, '\\n')\n",
    "\n",
    "if(is.na(status)){\n",
    "    cat('Rolling again\\n')\n",
    "    repeat{\n",
    "        score <- two_d6(1)\n",
    "        cat('new score:', score, '\\n')\n",
    "        if(score == point){\n",
    "            status <- TRUE\n",
    "            break\n",
    "        } else if(score == 7){\n",
    "            status <- FALSE\n",
    "            break\n",
    "        }\n",
    "    }\n",
    "}\n",
    "    \n",
    "cat('final status:', status, '\\n')"
   ]
  },
  {
   "cell_type": "code",
   "execution_count": 82,
   "metadata": {
    "collapsed": true
   },
   "outputs": [],
   "source": [
    "# 8.3\n",
    "sea_shells <- c(\n",
    "\"She\", \"sells\", \"sea\", \"shells\", \"by\", \"the\", \"seashore\",\n",
    "\"The\", \"shells\", \"she\", \"sells\", \"are\", \"surely\", \"seashells\",\n",
    "\"So\", \"if\", \"she\", \"sells\", \"shells\", \"on\", \"the\", \"seashore\",\n",
    "\"I'm\", \"sure\", \"she\", \"sells\", \"seashore\", \"shells\"\n",
    ")"
   ]
  },
  {
   "cell_type": "code",
   "execution_count": 118,
   "metadata": {},
   "outputs": [
    {
     "name": "stdout",
     "output_type": "stream",
     "text": [
      " [1] 3 5 3 6 2 3 8 3 6 3 5 3 6 9 2 2 3 5 6 2 3 8 3 4 3 5 8 6\n",
      "Words with 2 characters:\n",
      "by \n",
      "So \n",
      "if \n",
      "on \n",
      "Words with 3 characters:\n",
      "She \n",
      "sea \n",
      "the \n",
      "The \n",
      "she \n",
      "are \n",
      "I'm \n",
      "Words with 4 characters:\n",
      "sure \n",
      "Words with 5 characters:\n",
      "sells \n",
      "Words with 6 characters:\n",
      "shells \n",
      "surely \n",
      "Words with 7 characters:\n",
      "Words with 8 characters:\n",
      "seashore \n",
      "Words with 9 characters:\n",
      "seashells \n"
     ]
    }
   ],
   "source": [
    "words_matching_lengths <- function(word_list) {\n",
    "    word_lengths <- nchar(word_list)\n",
    "    print(word_lengths)\n",
    "    length_interval <- seq(min(word_lengths), max(word_lengths))\n",
    "    for (matching_length in length_interval){\n",
    "        cat('Words with', matching_length, 'characters:\\n')\n",
    "        matching_words <- unique(word_list[word_lengths == matching_length])\n",
    "\n",
    "        for (word in matching_words){\n",
    "            cat(word, '\\n')\n",
    "        }\n",
    "    }\n",
    "}\n",
    "\n",
    "words_matching_lengths(sea_shells)"
   ]
  },
  {
   "cell_type": "code",
   "execution_count": 94,
   "metadata": {},
   "outputs": [],
   "source": [
    "?unique"
   ]
  }
 ],
 "metadata": {
  "kernelspec": {
   "display_name": "R",
   "language": "R",
   "name": "ir"
  },
  "language_info": {
   "codemirror_mode": "r",
   "file_extension": ".r",
   "mimetype": "text/x-r-source",
   "name": "R",
   "pygments_lexer": "r",
   "version": "3.4.2"
  }
 },
 "nbformat": 4,
 "nbformat_minor": 2
}
