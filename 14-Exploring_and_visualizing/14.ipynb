{
 "cells": [
  {
   "cell_type": "code",
   "execution_count": 1,
   "metadata": {
    "collapsed": true
   },
   "outputs": [],
   "source": [
    "data(obama_vs_mccain, package='learningr')"
   ]
  },
  {
   "cell_type": "code",
   "execution_count": 9,
   "metadata": {},
   "outputs": [
    {
     "data": {
      "text/plain": [
       "\n",
       " (40,50]  (50,60]  (60,70]  (30,40]  (70,80] (90,100]   (0,10]  (10,20] \n",
       "      16       16        9        8        1        1        0        0 \n",
       " (20,30]  (80,90] \n",
       "       0        0 "
      ]
     },
     "metadata": {},
     "output_type": "display_data"
    }
   ],
   "source": [
    "sort(table(cut(obama_vs_mccain$Obama, seq.int(0, 100, 10))), decreasing=TRUE)"
   ]
  },
  {
   "cell_type": "code",
   "execution_count": 15,
   "metadata": {},
   "outputs": [
    {
     "data": {
      "text/html": [
       "'numeric'"
      ],
      "text/latex": [
       "'numeric'"
      ],
      "text/markdown": [
       "'numeric'"
      ],
      "text/plain": [
       "[1] \"numeric\""
      ]
     },
     "metadata": {},
     "output_type": "display_data"
    }
   ],
   "source": [
    "v1 <- c(4, 3, 1)\n",
    "v2 <- c(1, 9, 3)\n",
    "v3 <- c(2, 7, 8)\n",
    "class(quantile(v1))"
   ]
  },
  {
   "cell_type": "code",
   "execution_count": 17,
   "metadata": {},
   "outputs": [
    {
     "data": {
      "image/png": "[encoded data removed]",
      "text/plain": [
       "plot without title"
      ]
     },
     "metadata": {},
     "output_type": "display_data"
    }
   ],
   "source": [
    "plot(1:25, pch=1:25, bg='blue')"
   ]
  },
  {
   "cell_type": "code",
   "execution_count": 24,
   "metadata": {},
   "outputs": [],
   "source": [
    "data(crab_tag, package='learningr')"
   ]
  },
  {
   "cell_type": "code",
   "execution_count": 29,
   "metadata": {},
   "outputs": [
    {
     "data": {
      "text/html": [
       "<table>\n",
       "<thead><tr><th scope=col>Mission.Day</th><th scope=col>Date</th><th scope=col>Max.Temp</th><th scope=col>Min.Temp</th><th scope=col>Max.Depth</th><th scope=col>Min.Depth</th><th scope=col>Batt.Volts</th></tr></thead>\n",
       "<tbody>\n",
       "\t<tr><td> 0        </td><td>2008-08-08</td><td>27.734    </td><td>25.203    </td><td> 0.06     </td><td>-0.07     </td><td>3.06      </td></tr>\n",
       "\t<tr><td> 1        </td><td>2008-08-09</td><td>25.203    </td><td>23.859    </td><td> 0.06     </td><td>-0.07     </td><td>3.09      </td></tr>\n",
       "\t<tr><td> 2        </td><td>2008-08-10</td><td>24.016    </td><td>23.500    </td><td>-0.07     </td><td>-0.10     </td><td>3.09      </td></tr>\n",
       "\t<tr><td> 3        </td><td>2008-08-11</td><td>26.453    </td><td>23.281    </td><td>-0.04     </td><td>-0.10     </td><td>3.09      </td></tr>\n",
       "\t<tr><td> 4        </td><td>2008-08-12</td><td>27.047    </td><td>23.609    </td><td>-0.10     </td><td>-0.26     </td><td>3.09      </td></tr>\n",
       "\t<tr><td> 5        </td><td>2008-08-13</td><td>24.625    </td><td>23.438    </td><td>-0.04     </td><td>-0.13     </td><td>3.09      </td></tr>\n",
       "\t<tr><td> 6        </td><td>2008-08-14</td><td>26.453    </td><td>23.156    </td><td> 0.06     </td><td>-0.04     </td><td>3.09      </td></tr>\n",
       "\t<tr><td> 7        </td><td>2008-08-15</td><td>29.391    </td><td>23.766    </td><td> 0.09     </td><td>-0.01     </td><td>3.09      </td></tr>\n",
       "\t<tr><td> 8        </td><td>2008-08-16</td><td>24.844    </td><td>23.922    </td><td> 0.03     </td><td>-0.04     </td><td>3.09      </td></tr>\n",
       "\t<tr><td> 9        </td><td>2008-08-17</td><td>24.016    </td><td>23.547    </td><td>-0.04     </td><td>-0.10     </td><td>3.09      </td></tr>\n",
       "\t<tr><td>10        </td><td>2008-08-18</td><td>24.219    </td><td>23.109    </td><td>-0.04     </td><td>-0.13     </td><td>3.09      </td></tr>\n",
       "\t<tr><td>11        </td><td>2008-08-19</td><td>24.859    </td><td>22.297    </td><td>-0.04     </td><td>-0.16     </td><td>3.09      </td></tr>\n",
       "\t<tr><td>12        </td><td>2008-08-20</td><td>23.641    </td><td>22.250    </td><td> 0.03     </td><td>-0.07     </td><td>3.09      </td></tr>\n",
       "\t<tr><td>13        </td><td>2008-08-21</td><td>25.094    </td><td>21.516    </td><td> 0.03     </td><td>-0.04     </td><td>3.09      </td></tr>\n",
       "\t<tr><td>14        </td><td>2008-08-22</td><td>23.844    </td><td>23.063    </td><td> 0.06     </td><td>-0.04     </td><td>3.09      </td></tr>\n",
       "\t<tr><td>15        </td><td>2008-08-23</td><td>23.375    </td><td>22.797    </td><td> 0.03     </td><td>-0.01     </td><td>3.09      </td></tr>\n",
       "\t<tr><td>16        </td><td>2008-08-24</td><td>23.609    </td><td>22.484    </td><td> 0.03     </td><td>-0.04     </td><td>3.09      </td></tr>\n",
       "\t<tr><td>17        </td><td>2008-08-25</td><td>23.578    </td><td>22.266    </td><td> 0.06     </td><td>-0.04     </td><td>3.09      </td></tr>\n",
       "\t<tr><td>18        </td><td>2008-08-26</td><td>23.656    </td><td>19.781    </td><td> 0.24     </td><td>-0.07     </td><td>3.09      </td></tr>\n",
       "\t<tr><td>19        </td><td>2008-08-27</td><td>19.781    </td><td>16.984    </td><td>14.06     </td><td> 0.12     </td><td>3.09      </td></tr>\n",
       "\t<tr><td>20        </td><td>2008-08-28</td><td>17.813    </td><td>17.719    </td><td>15.84     </td><td>10.09     </td><td>3.08      </td></tr>\n",
       "\t<tr><td>21        </td><td>2008-08-29</td><td>17.828    </td><td>17.719    </td><td>17.28     </td><td>11.09     </td><td>3.09      </td></tr>\n",
       "\t<tr><td>22        </td><td>2008-08-30</td><td>18.063    </td><td>17.750    </td><td>17.87     </td><td>11.25     </td><td>3.08      </td></tr>\n",
       "\t<tr><td>23        </td><td>2008-08-31</td><td>18.109    </td><td>17.891    </td><td>18.06     </td><td>11.09     </td><td>3.08      </td></tr>\n",
       "\t<tr><td>24        </td><td>2008-09-01</td><td>18.078    </td><td>17.875    </td><td>18.81     </td><td>11.46     </td><td>3.08      </td></tr>\n",
       "\t<tr><td>25        </td><td>2008-09-02</td><td>17.875    </td><td>17.656    </td><td>19.37     </td><td>11.50     </td><td>3.08      </td></tr>\n",
       "\t<tr><td>26        </td><td>2008-09-03</td><td>17.672    </td><td>17.438    </td><td>19.09     </td><td> 9.71     </td><td>3.08      </td></tr>\n",
       "\t<tr><td>27        </td><td>2008-09-04</td><td>17.578    </td><td>17.063    </td><td>22.71     </td><td> 9.21     </td><td>3.08      </td></tr>\n",
       "\t<tr><td>28        </td><td>2008-09-05</td><td>17.281    </td><td>16.984    </td><td>37.06     </td><td>11.75     </td><td>3.08      </td></tr>\n",
       "\t<tr><td>29        </td><td>2008-09-06</td><td>17.203    </td><td>17.016    </td><td>39.31     </td><td>23.53     </td><td>3.08      </td></tr>\n",
       "\t<tr><td>...</td><td>...</td><td>...</td><td>...</td><td>...</td><td>...</td><td>...</td></tr>\n",
       "\t<tr><td>375       </td><td>2009-08-18</td><td>14.922    </td><td>14.594    </td><td>76.37     </td><td>68.06     </td><td>3.06      </td></tr>\n",
       "\t<tr><td>376       </td><td>2009-08-19</td><td>15.125    </td><td>14.469    </td><td>92.71     </td><td>76.37     </td><td>2.78      </td></tr>\n",
       "\t<tr><td>377       </td><td>2009-08-20</td><td>15.219    </td><td>14.594    </td><td>90.68     </td><td>75.90     </td><td>2.80      </td></tr>\n",
       "\t<tr><td>378       </td><td>2009-08-21</td><td>15.422    </td><td>14.844    </td><td>75.90     </td><td>61.34     </td><td>2.77      </td></tr>\n",
       "\t<tr><td>379       </td><td>2009-08-22</td><td>15.516    </td><td>15.047    </td><td>61.34     </td><td>54.09     </td><td>2.77      </td></tr>\n",
       "\t<tr><td>380       </td><td>2009-08-23</td><td>15.609    </td><td>15.188    </td><td>54.12     </td><td>50.15     </td><td>2.69      </td></tr>\n",
       "\t<tr><td>381       </td><td>2009-08-24</td><td>15.641    </td><td>15.297    </td><td>50.15     </td><td>47.28     </td><td>3.03      </td></tr>\n",
       "\t<tr><td>382       </td><td>2009-08-25</td><td>15.719    </td><td>15.344    </td><td>47.28     </td><td>44.59     </td><td>3.03      </td></tr>\n",
       "\t<tr><td>383       </td><td>2009-08-26</td><td>15.719    </td><td>15.375    </td><td>44.62     </td><td>42.21     </td><td>3.03      </td></tr>\n",
       "\t<tr><td>384       </td><td>2009-08-27</td><td>15.688    </td><td>15.422    </td><td>42.21     </td><td>38.96     </td><td>2.53      </td></tr>\n",
       "\t<tr><td>385       </td><td>2009-08-28</td><td>15.688    </td><td>15.313    </td><td>38.96     </td><td>35.75     </td><td>3.06      </td></tr>\n",
       "\t<tr><td>386       </td><td>2009-08-29</td><td>15.484    </td><td>15.313    </td><td>35.78     </td><td>33.37     </td><td>3.06      </td></tr>\n",
       "\t<tr><td>387       </td><td>2009-08-30</td><td>15.531    </td><td>15.422    </td><td>33.53     </td><td>33.03     </td><td>3.06      </td></tr>\n",
       "\t<tr><td>388       </td><td>2009-08-31</td><td>15.547    </td><td>15.375    </td><td>35.53     </td><td>33.53     </td><td>3.06      </td></tr>\n",
       "\t<tr><td>389       </td><td>2009-09-01</td><td>15.531    </td><td>15.422    </td><td>37.62     </td><td>35.50     </td><td>3.06      </td></tr>\n",
       "\t<tr><td>390       </td><td>2009-09-02</td><td>15.766    </td><td>15.516    </td><td>38.78     </td><td>37.56     </td><td>3.06      </td></tr>\n",
       "\t<tr><td>391       </td><td>2009-09-03</td><td>16.063    </td><td>15.000    </td><td>39.40     </td><td>38.78     </td><td>3.06      </td></tr>\n",
       "\t<tr><td>392       </td><td>2009-09-04</td><td>16.141    </td><td>15.016    </td><td>39.56     </td><td>39.28     </td><td>3.06      </td></tr>\n",
       "\t<tr><td>393       </td><td>2009-09-05</td><td>16.063    </td><td>15.281    </td><td>39.53     </td><td>38.78     </td><td>3.06      </td></tr>\n",
       "\t<tr><td>394       </td><td>2009-09-06</td><td>15.953    </td><td>15.453    </td><td>38.78     </td><td>37.43     </td><td>3.06      </td></tr>\n",
       "\t<tr><td>395       </td><td>2009-09-07</td><td>16.016    </td><td>15.609    </td><td>37.43     </td><td>36.40     </td><td>3.06      </td></tr>\n",
       "\t<tr><td>396       </td><td>2009-09-08</td><td>16.063    </td><td>15.609    </td><td>36.40     </td><td>35.34     </td><td>3.06      </td></tr>\n",
       "\t<tr><td>397       </td><td>2009-09-09</td><td>16.016    </td><td>15.641    </td><td>35.34     </td><td>34.31     </td><td>3.06      </td></tr>\n",
       "\t<tr><td>398       </td><td>2009-09-10</td><td>16.000    </td><td>15.703    </td><td>34.31     </td><td>33.03     </td><td>3.06      </td></tr>\n",
       "\t<tr><td>399       </td><td>2009-09-11</td><td>15.906    </td><td>15.703    </td><td>33.03     </td><td>31.81     </td><td>3.06      </td></tr>\n",
       "\t<tr><td>400       </td><td>2009-09-12</td><td>15.875    </td><td>15.688    </td><td>31.84     </td><td>30.75     </td><td>3.06      </td></tr>\n",
       "\t<tr><td>401       </td><td>2009-09-13</td><td>15.813    </td><td>15.688    </td><td>30.75     </td><td>30.09     </td><td>3.06      </td></tr>\n",
       "\t<tr><td>402       </td><td>2009-09-14</td><td>15.766    </td><td>15.609    </td><td>30.09     </td><td>30.00     </td><td>3.06      </td></tr>\n",
       "\t<tr><td>403       </td><td>2009-09-15</td><td>15.813    </td><td>15.641    </td><td>30.09     </td><td>29.84     </td><td>3.06      </td></tr>\n",
       "\t<tr><td>404       </td><td>2009-09-16</td><td>15.813    </td><td>15.688    </td><td>30.37     </td><td>29.93     </td><td>3.06      </td></tr>\n",
       "</tbody>\n",
       "</table>\n"
      ],
      "text/latex": [
       "\\begin{tabular}{r|lllllll}\n",
       " Mission.Day & Date & Max.Temp & Min.Temp & Max.Depth & Min.Depth & Batt.Volts\\\\\n",
       "\\hline\n",
       "\t  0         & 2008-08-08 & 27.734     & 25.203     &  0.06      & -0.07      & 3.06      \\\\\n",
       "\t  1         & 2008-08-09 & 25.203     & 23.859     &  0.06      & -0.07      & 3.09      \\\\\n",
       "\t  2         & 2008-08-10 & 24.016     & 23.500     & -0.07      & -0.10      & 3.09      \\\\\n",
       "\t  3         & 2008-08-11 & 26.453     & 23.281     & -0.04      & -0.10      & 3.09      \\\\\n",
       "\t  4         & 2008-08-12 & 27.047     & 23.609     & -0.10      & -0.26      & 3.09      \\\\\n",
       "\t  5         & 2008-08-13 & 24.625     & 23.438     & -0.04      & -0.13      & 3.09      \\\\\n",
       "\t  6         & 2008-08-14 & 26.453     & 23.156     &  0.06      & -0.04      & 3.09      \\\\\n",
       "\t  7         & 2008-08-15 & 29.391     & 23.766     &  0.09      & -0.01      & 3.09      \\\\\n",
       "\t  8         & 2008-08-16 & 24.844     & 23.922     &  0.03      & -0.04      & 3.09      \\\\\n",
       "\t  9         & 2008-08-17 & 24.016     & 23.547     & -0.04      & -0.10      & 3.09      \\\\\n",
       "\t 10         & 2008-08-18 & 24.219     & 23.109     & -0.04      & -0.13      & 3.09      \\\\\n",
       "\t 11         & 2008-08-19 & 24.859     & 22.297     & -0.04      & -0.16      & 3.09      \\\\\n",
       "\t 12         & 2008-08-20 & 23.641     & 22.250     &  0.03      & -0.07      & 3.09      \\\\\n",
       "\t 13         & 2008-08-21 & 25.094     & 21.516     &  0.03      & -0.04      & 3.09      \\\\\n",
       "\t 14         & 2008-08-22 & 23.844     & 23.063     &  0.06      & -0.04      & 3.09      \\\\\n",
       "\t 15         & 2008-08-23 & 23.375     & 22.797     &  0.03      & -0.01      & 3.09      \\\\\n",
       "\t 16         & 2008-08-24 & 23.609     & 22.484     &  0.03      & -0.04      & 3.09      \\\\\n",
       "\t 17         & 2008-08-25 & 23.578     & 22.266     &  0.06      & -0.04      & 3.09      \\\\\n",
       "\t 18         & 2008-08-26 & 23.656     & 19.781     &  0.24      & -0.07      & 3.09      \\\\\n",
       "\t 19         & 2008-08-27 & 19.781     & 16.984     & 14.06      &  0.12      & 3.09      \\\\\n",
       "\t 20         & 2008-08-28 & 17.813     & 17.719     & 15.84      & 10.09      & 3.08      \\\\\n",
       "\t 21         & 2008-08-29 & 17.828     & 17.719     & 17.28      & 11.09      & 3.09      \\\\\n",
       "\t 22         & 2008-08-30 & 18.063     & 17.750     & 17.87      & 11.25      & 3.08      \\\\\n",
       "\t 23         & 2008-08-31 & 18.109     & 17.891     & 18.06      & 11.09      & 3.08      \\\\\n",
       "\t 24         & 2008-09-01 & 18.078     & 17.875     & 18.81      & 11.46      & 3.08      \\\\\n",
       "\t 25         & 2008-09-02 & 17.875     & 17.656     & 19.37      & 11.50      & 3.08      \\\\\n",
       "\t 26         & 2008-09-03 & 17.672     & 17.438     & 19.09      &  9.71      & 3.08      \\\\\n",
       "\t 27         & 2008-09-04 & 17.578     & 17.063     & 22.71      &  9.21      & 3.08      \\\\\n",
       "\t 28         & 2008-09-05 & 17.281     & 16.984     & 37.06      & 11.75      & 3.08      \\\\\n",
       "\t 29         & 2008-09-06 & 17.203     & 17.016     & 39.31      & 23.53      & 3.08      \\\\\n",
       "\t ... & ... & ... & ... & ... & ... & ...\\\\\n",
       "\t 375        & 2009-08-18 & 14.922     & 14.594     & 76.37      & 68.06      & 3.06      \\\\\n",
       "\t 376        & 2009-08-19 & 15.125     & 14.469     & 92.71      & 76.37      & 2.78      \\\\\n",
       "\t 377        & 2009-08-20 & 15.219     & 14.594     & 90.68      & 75.90      & 2.80      \\\\\n",
       "\t 378        & 2009-08-21 & 15.422     & 14.844     & 75.90      & 61.34      & 2.77      \\\\\n",
       "\t 379        & 2009-08-22 & 15.516     & 15.047     & 61.34      & 54.09      & 2.77      \\\\\n",
       "\t 380        & 2009-08-23 & 15.609     & 15.188     & 54.12      & 50.15      & 2.69      \\\\\n",
       "\t 381        & 2009-08-24 & 15.641     & 15.297     & 50.15      & 47.28      & 3.03      \\\\\n",
       "\t 382        & 2009-08-25 & 15.719     & 15.344     & 47.28      & 44.59      & 3.03      \\\\\n",
       "\t 383        & 2009-08-26 & 15.719     & 15.375     & 44.62      & 42.21      & 3.03      \\\\\n",
       "\t 384        & 2009-08-27 & 15.688     & 15.422     & 42.21      & 38.96      & 2.53      \\\\\n",
       "\t 385        & 2009-08-28 & 15.688     & 15.313     & 38.96      & 35.75      & 3.06      \\\\\n",
       "\t 386        & 2009-08-29 & 15.484     & 15.313     & 35.78      & 33.37      & 3.06      \\\\\n",
       "\t 387        & 2009-08-30 & 15.531     & 15.422     & 33.53      & 33.03      & 3.06      \\\\\n",
       "\t 388        & 2009-08-31 & 15.547     & 15.375     & 35.53      & 33.53      & 3.06      \\\\\n",
       "\t 389        & 2009-09-01 & 15.531     & 15.422     & 37.62      & 35.50      & 3.06      \\\\\n",
       "\t 390        & 2009-09-02 & 15.766     & 15.516     & 38.78      & 37.56      & 3.06      \\\\\n",
       "\t 391        & 2009-09-03 & 16.063     & 15.000     & 39.40      & 38.78      & 3.06      \\\\\n",
       "\t 392        & 2009-09-04 & 16.141     & 15.016     & 39.56      & 39.28      & 3.06      \\\\\n",
       "\t 393        & 2009-09-05 & 16.063     & 15.281     & 39.53      & 38.78      & 3.06      \\\\\n",
       "\t 394        & 2009-09-06 & 15.953     & 15.453     & 38.78      & 37.43      & 3.06      \\\\\n",
       "\t 395        & 2009-09-07 & 16.016     & 15.609     & 37.43      & 36.40      & 3.06      \\\\\n",
       "\t 396        & 2009-09-08 & 16.063     & 15.609     & 36.40      & 35.34      & 3.06      \\\\\n",
       "\t 397        & 2009-09-09 & 16.016     & 15.641     & 35.34      & 34.31      & 3.06      \\\\\n",
       "\t 398        & 2009-09-10 & 16.000     & 15.703     & 34.31      & 33.03      & 3.06      \\\\\n",
       "\t 399        & 2009-09-11 & 15.906     & 15.703     & 33.03      & 31.81      & 3.06      \\\\\n",
       "\t 400        & 2009-09-12 & 15.875     & 15.688     & 31.84      & 30.75      & 3.06      \\\\\n",
       "\t 401        & 2009-09-13 & 15.813     & 15.688     & 30.75      & 30.09      & 3.06      \\\\\n",
       "\t 402        & 2009-09-14 & 15.766     & 15.609     & 30.09      & 30.00      & 3.06      \\\\\n",
       "\t 403        & 2009-09-15 & 15.813     & 15.641     & 30.09      & 29.84      & 3.06      \\\\\n",
       "\t 404        & 2009-09-16 & 15.813     & 15.688     & 30.37      & 29.93      & 3.06      \\\\\n",
       "\\end{tabular}\n"
      ],
      "text/markdown": [
       "\n",
       "Mission.Day | Date | Max.Temp | Min.Temp | Max.Depth | Min.Depth | Batt.Volts | \n",
       "|---|---|---|---|---|---|---|---|---|---|---|---|---|---|---|---|---|---|---|---|---|---|---|---|---|---|---|---|---|---|---|---|---|---|---|---|---|---|---|---|---|---|---|---|---|---|---|---|---|---|---|---|---|---|---|---|---|---|---|---|---|\n",
       "|  0         | 2008-08-08 | 27.734     | 25.203     |  0.06      | -0.07      | 3.06       | \n",
       "|  1         | 2008-08-09 | 25.203     | 23.859     |  0.06      | -0.07      | 3.09       | \n",
       "|  2         | 2008-08-10 | 24.016     | 23.500     | -0.07      | -0.10      | 3.09       | \n",
       "|  3         | 2008-08-11 | 26.453     | 23.281     | -0.04      | -0.10      | 3.09       | \n",
       "|  4         | 2008-08-12 | 27.047     | 23.609     | -0.10      | -0.26      | 3.09       | \n",
       "|  5         | 2008-08-13 | 24.625     | 23.438     | -0.04      | -0.13      | 3.09       | \n",
       "|  6         | 2008-08-14 | 26.453     | 23.156     |  0.06      | -0.04      | 3.09       | \n",
       "|  7         | 2008-08-15 | 29.391     | 23.766     |  0.09      | -0.01      | 3.09       | \n",
       "|  8         | 2008-08-16 | 24.844     | 23.922     |  0.03      | -0.04      | 3.09       | \n",
       "|  9         | 2008-08-17 | 24.016     | 23.547     | -0.04      | -0.10      | 3.09       | \n",
       "| 10         | 2008-08-18 | 24.219     | 23.109     | -0.04      | -0.13      | 3.09       | \n",
       "| 11         | 2008-08-19 | 24.859     | 22.297     | -0.04      | -0.16      | 3.09       | \n",
       "| 12         | 2008-08-20 | 23.641     | 22.250     |  0.03      | -0.07      | 3.09       | \n",
       "| 13         | 2008-08-21 | 25.094     | 21.516     |  0.03      | -0.04      | 3.09       | \n",
       "| 14         | 2008-08-22 | 23.844     | 23.063     |  0.06      | -0.04      | 3.09       | \n",
       "| 15         | 2008-08-23 | 23.375     | 22.797     |  0.03      | -0.01      | 3.09       | \n",
       "| 16         | 2008-08-24 | 23.609     | 22.484     |  0.03      | -0.04      | 3.09       | \n",
       "| 17         | 2008-08-25 | 23.578     | 22.266     |  0.06      | -0.04      | 3.09       | \n",
       "| 18         | 2008-08-26 | 23.656     | 19.781     |  0.24      | -0.07      | 3.09       | \n",
       "| 19         | 2008-08-27 | 19.781     | 16.984     | 14.06      |  0.12      | 3.09       | \n",
       "| 20         | 2008-08-28 | 17.813     | 17.719     | 15.84      | 10.09      | 3.08       | \n",
       "| 21         | 2008-08-29 | 17.828     | 17.719     | 17.28      | 11.09      | 3.09       | \n",
       "| 22         | 2008-08-30 | 18.063     | 17.750     | 17.87      | 11.25      | 3.08       | \n",
       "| 23         | 2008-08-31 | 18.109     | 17.891     | 18.06      | 11.09      | 3.08       | \n",
       "| 24         | 2008-09-01 | 18.078     | 17.875     | 18.81      | 11.46      | 3.08       | \n",
       "| 25         | 2008-09-02 | 17.875     | 17.656     | 19.37      | 11.50      | 3.08       | \n",
       "| 26         | 2008-09-03 | 17.672     | 17.438     | 19.09      |  9.71      | 3.08       | \n",
       "| 27         | 2008-09-04 | 17.578     | 17.063     | 22.71      |  9.21      | 3.08       | \n",
       "| 28         | 2008-09-05 | 17.281     | 16.984     | 37.06      | 11.75      | 3.08       | \n",
       "| 29         | 2008-09-06 | 17.203     | 17.016     | 39.31      | 23.53      | 3.08       | \n",
       "| ... | ... | ... | ... | ... | ... | ... | \n",
       "| 375        | 2009-08-18 | 14.922     | 14.594     | 76.37      | 68.06      | 3.06       | \n",
       "| 376        | 2009-08-19 | 15.125     | 14.469     | 92.71      | 76.37      | 2.78       | \n",
       "| 377        | 2009-08-20 | 15.219     | 14.594     | 90.68      | 75.90      | 2.80       | \n",
       "| 378        | 2009-08-21 | 15.422     | 14.844     | 75.90      | 61.34      | 2.77       | \n",
       "| 379        | 2009-08-22 | 15.516     | 15.047     | 61.34      | 54.09      | 2.77       | \n",
       "| 380        | 2009-08-23 | 15.609     | 15.188     | 54.12      | 50.15      | 2.69       | \n",
       "| 381        | 2009-08-24 | 15.641     | 15.297     | 50.15      | 47.28      | 3.03       | \n",
       "| 382        | 2009-08-25 | 15.719     | 15.344     | 47.28      | 44.59      | 3.03       | \n",
       "| 383        | 2009-08-26 | 15.719     | 15.375     | 44.62      | 42.21      | 3.03       | \n",
       "| 384        | 2009-08-27 | 15.688     | 15.422     | 42.21      | 38.96      | 2.53       | \n",
       "| 385        | 2009-08-28 | 15.688     | 15.313     | 38.96      | 35.75      | 3.06       | \n",
       "| 386        | 2009-08-29 | 15.484     | 15.313     | 35.78      | 33.37      | 3.06       | \n",
       "| 387        | 2009-08-30 | 15.531     | 15.422     | 33.53      | 33.03      | 3.06       | \n",
       "| 388        | 2009-08-31 | 15.547     | 15.375     | 35.53      | 33.53      | 3.06       | \n",
       "| 389        | 2009-09-01 | 15.531     | 15.422     | 37.62      | 35.50      | 3.06       | \n",
       "| 390        | 2009-09-02 | 15.766     | 15.516     | 38.78      | 37.56      | 3.06       | \n",
       "| 391        | 2009-09-03 | 16.063     | 15.000     | 39.40      | 38.78      | 3.06       | \n",
       "| 392        | 2009-09-04 | 16.141     | 15.016     | 39.56      | 39.28      | 3.06       | \n",
       "| 393        | 2009-09-05 | 16.063     | 15.281     | 39.53      | 38.78      | 3.06       | \n",
       "| 394        | 2009-09-06 | 15.953     | 15.453     | 38.78      | 37.43      | 3.06       | \n",
       "| 395        | 2009-09-07 | 16.016     | 15.609     | 37.43      | 36.40      | 3.06       | \n",
       "| 396        | 2009-09-08 | 16.063     | 15.609     | 36.40      | 35.34      | 3.06       | \n",
       "| 397        | 2009-09-09 | 16.016     | 15.641     | 35.34      | 34.31      | 3.06       | \n",
       "| 398        | 2009-09-10 | 16.000     | 15.703     | 34.31      | 33.03      | 3.06       | \n",
       "| 399        | 2009-09-11 | 15.906     | 15.703     | 33.03      | 31.81      | 3.06       | \n",
       "| 400        | 2009-09-12 | 15.875     | 15.688     | 31.84      | 30.75      | 3.06       | \n",
       "| 401        | 2009-09-13 | 15.813     | 15.688     | 30.75      | 30.09      | 3.06       | \n",
       "| 402        | 2009-09-14 | 15.766     | 15.609     | 30.09      | 30.00      | 3.06       | \n",
       "| 403        | 2009-09-15 | 15.813     | 15.641     | 30.09      | 29.84      | 3.06       | \n",
       "| 404        | 2009-09-16 | 15.813     | 15.688     | 30.37      | 29.93      | 3.06       | \n",
       "\n",
       "\n"
      ],
      "text/plain": [
       "    Mission.Day Date       Max.Temp Min.Temp Max.Depth Min.Depth Batt.Volts\n",
       "1    0          2008-08-08 27.734   25.203    0.06     -0.07     3.06      \n",
       "2    1          2008-08-09 25.203   23.859    0.06     -0.07     3.09      \n",
       "3    2          2008-08-10 24.016   23.500   -0.07     -0.10     3.09      \n",
       "4    3          2008-08-11 26.453   23.281   -0.04     -0.10     3.09      \n",
       "5    4          2008-08-12 27.047   23.609   -0.10     -0.26     3.09      \n",
       "6    5          2008-08-13 24.625   23.438   -0.04     -0.13     3.09      \n",
       "7    6          2008-08-14 26.453   23.156    0.06     -0.04     3.09      \n",
       "8    7          2008-08-15 29.391   23.766    0.09     -0.01     3.09      \n",
       "9    8          2008-08-16 24.844   23.922    0.03     -0.04     3.09      \n",
       "10   9          2008-08-17 24.016   23.547   -0.04     -0.10     3.09      \n",
       "11  10          2008-08-18 24.219   23.109   -0.04     -0.13     3.09      \n",
       "12  11          2008-08-19 24.859   22.297   -0.04     -0.16     3.09      \n",
       "13  12          2008-08-20 23.641   22.250    0.03     -0.07     3.09      \n",
       "14  13          2008-08-21 25.094   21.516    0.03     -0.04     3.09      \n",
       "15  14          2008-08-22 23.844   23.063    0.06     -0.04     3.09      \n",
       "16  15          2008-08-23 23.375   22.797    0.03     -0.01     3.09      \n",
       "17  16          2008-08-24 23.609   22.484    0.03     -0.04     3.09      \n",
       "18  17          2008-08-25 23.578   22.266    0.06     -0.04     3.09      \n",
       "19  18          2008-08-26 23.656   19.781    0.24     -0.07     3.09      \n",
       "20  19          2008-08-27 19.781   16.984   14.06      0.12     3.09      \n",
       "21  20          2008-08-28 17.813   17.719   15.84     10.09     3.08      \n",
       "22  21          2008-08-29 17.828   17.719   17.28     11.09     3.09      \n",
       "23  22          2008-08-30 18.063   17.750   17.87     11.25     3.08      \n",
       "24  23          2008-08-31 18.109   17.891   18.06     11.09     3.08      \n",
       "25  24          2008-09-01 18.078   17.875   18.81     11.46     3.08      \n",
       "26  25          2008-09-02 17.875   17.656   19.37     11.50     3.08      \n",
       "27  26          2008-09-03 17.672   17.438   19.09      9.71     3.08      \n",
       "28  27          2008-09-04 17.578   17.063   22.71      9.21     3.08      \n",
       "29  28          2008-09-05 17.281   16.984   37.06     11.75     3.08      \n",
       "30  29          2008-09-06 17.203   17.016   39.31     23.53     3.08      \n",
       "... ...         ...        ...      ...      ...       ...       ...       \n",
       "376 375         2009-08-18 14.922   14.594   76.37     68.06     3.06      \n",
       "377 376         2009-08-19 15.125   14.469   92.71     76.37     2.78      \n",
       "378 377         2009-08-20 15.219   14.594   90.68     75.90     2.80      \n",
       "379 378         2009-08-21 15.422   14.844   75.90     61.34     2.77      \n",
       "380 379         2009-08-22 15.516   15.047   61.34     54.09     2.77      \n",
       "381 380         2009-08-23 15.609   15.188   54.12     50.15     2.69      \n",
       "382 381         2009-08-24 15.641   15.297   50.15     47.28     3.03      \n",
       "383 382         2009-08-25 15.719   15.344   47.28     44.59     3.03      \n",
       "384 383         2009-08-26 15.719   15.375   44.62     42.21     3.03      \n",
       "385 384         2009-08-27 15.688   15.422   42.21     38.96     2.53      \n",
       "386 385         2009-08-28 15.688   15.313   38.96     35.75     3.06      \n",
       "387 386         2009-08-29 15.484   15.313   35.78     33.37     3.06      \n",
       "388 387         2009-08-30 15.531   15.422   33.53     33.03     3.06      \n",
       "389 388         2009-08-31 15.547   15.375   35.53     33.53     3.06      \n",
       "390 389         2009-09-01 15.531   15.422   37.62     35.50     3.06      \n",
       "391 390         2009-09-02 15.766   15.516   38.78     37.56     3.06      \n",
       "392 391         2009-09-03 16.063   15.000   39.40     38.78     3.06      \n",
       "393 392         2009-09-04 16.141   15.016   39.56     39.28     3.06      \n",
       "394 393         2009-09-05 16.063   15.281   39.53     38.78     3.06      \n",
       "395 394         2009-09-06 15.953   15.453   38.78     37.43     3.06      \n",
       "396 395         2009-09-07 16.016   15.609   37.43     36.40     3.06      \n",
       "397 396         2009-09-08 16.063   15.609   36.40     35.34     3.06      \n",
       "398 397         2009-09-09 16.016   15.641   35.34     34.31     3.06      \n",
       "399 398         2009-09-10 16.000   15.703   34.31     33.03     3.06      \n",
       "400 399         2009-09-11 15.906   15.703   33.03     31.81     3.06      \n",
       "401 400         2009-09-12 15.875   15.688   31.84     30.75     3.06      \n",
       "402 401         2009-09-13 15.813   15.688   30.75     30.09     3.06      \n",
       "403 402         2009-09-14 15.766   15.609   30.09     30.00     3.06      \n",
       "404 403         2009-09-15 15.813   15.641   30.09     29.84     3.06      \n",
       "405 404         2009-09-16 15.813   15.688   30.37     29.93     3.06      "
      ]
     },
     "metadata": {},
     "output_type": "display_data"
    }
   ],
   "source": [
    "crab_tag$daylog"
   ]
  },
  {
   "cell_type": "code",
   "execution_count": 31,
   "metadata": {},
   "outputs": [
    {
     "data": {
      "text/html": [
       "6"
      ],
      "text/latex": [
       "6"
      ],
      "text/markdown": [
       "6"
      ],
      "text/plain": [
       "[1] 6"
      ]
     },
     "metadata": {},
     "output_type": "display_data"
    }
   ],
   "source": [
    "with(obama_vs_mccain, nclass.scott(Obama))"
   ]
  },
  {
   "cell_type": "code",
   "execution_count": 35,
   "metadata": {
    "collapsed": true
   },
   "outputs": [],
   "source": [
    "library(lattice)"
   ]
  },
  {
   "cell_type": "code",
   "execution_count": 44,
   "metadata": {},
   "outputs": [
    {
     "data": {},
     "metadata": {},
     "output_type": "display_data"
    },
    {
     "data": {
      "image/png": "[encoded data removed]",
      "text/plain": [
       "plot without title"
      ]
     },
     "metadata": {},
     "output_type": "display_data"
    }
   ],
   "source": [
    "histogram(~Obama, obama_vs_mccain, breaks = 5)"
   ]
  },
  {
   "cell_type": "code",
   "execution_count": 42,
   "metadata": {
    "collapsed": true
   },
   "outputs": [],
   "source": [
    "?hist"
   ]
  }
 ],
 "metadata": {
  "kernelspec": {
   "display_name": "R",
   "language": "R",
   "name": "ir"
  },
  "language_info": {
   "codemirror_mode": "r",
   "file_extension": ".r",
   "mimetype": "text/x-r-source",
   "name": "R",
   "pygments_lexer": "r",
   "version": "3.4.2"
  }
 },
 "nbformat": 4,
 "nbformat_minor": 2
}
