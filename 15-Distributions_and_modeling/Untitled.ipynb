{
 "cells": [
  {
   "cell_type": "code",
   "execution_count": 2,
   "metadata": {},
   "outputs": [],
   "source": [
    "data(gonorrhoea, package='learningr')"
   ]
  },
  {
   "cell_type": "code",
   "execution_count": 6,
   "metadata": {
    "scrolled": true
   },
   "outputs": [
    {
     "data": {
      "text/html": [
       "<dl class=dl-horizontal>\n",
       "\t<dt>Year</dt>\n",
       "\t\t<dd>FALSE</dd>\n",
       "\t<dt>Age.Group</dt>\n",
       "\t\t<dd>TRUE</dd>\n",
       "\t<dt>Ethnicity</dt>\n",
       "\t\t<dd>TRUE</dd>\n",
       "\t<dt>Gender</dt>\n",
       "\t\t<dd>TRUE</dd>\n",
       "\t<dt>Rate</dt>\n",
       "\t\t<dd>FALSE</dd>\n",
       "</dl>\n"
      ],
      "text/latex": [
       "\\begin{description*}\n",
       "\\item[Year] FALSE\n",
       "\\item[Age.Group] TRUE\n",
       "\\item[Ethnicity] TRUE\n",
       "\\item[Gender] TRUE\n",
       "\\item[Rate] FALSE\n",
       "\\end{description*}\n"
      ],
      "text/markdown": [
       "Year\n",
       ":   FALSEAge.Group\n",
       ":   TRUEEthnicity\n",
       ":   TRUEGender\n",
       ":   TRUERate\n",
       ":   FALSE\n",
       "\n"
      ],
      "text/plain": [
       "     Year Age.Group Ethnicity    Gender      Rate \n",
       "    FALSE      TRUE      TRUE      TRUE     FALSE "
      ]
     },
     "metadata": {},
     "output_type": "display_data"
    }
   ],
   "source": [
    "sapply(gonorrhoea, is.factor)"
   ]
  },
  {
   "cell_type": "code",
   "execution_count": 24,
   "metadata": {},
   "outputs": [],
   "source": [
    "?AIC"
   ]
  }
 ],
 "metadata": {
  "kernelspec": {
   "display_name": "R",
   "language": "R",
   "name": "ir"
  },
  "language_info": {
   "codemirror_mode": "r",
   "file_extension": ".r",
   "mimetype": "text/x-r-source",
   "name": "R",
   "pygments_lexer": "r",
   "version": "3.4.2"
  }
 },
 "nbformat": 4,
 "nbformat_minor": 2
}
