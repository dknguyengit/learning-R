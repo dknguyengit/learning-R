{
 "cells": [
  {
   "cell_type": "code",
   "execution_count": 5,
   "metadata": {},
   "outputs": [
    {
     "data": {
      "text/html": [
       "TRUE"
      ],
      "text/latex": [
       "TRUE"
      ],
      "text/markdown": [
       "TRUE"
      ],
      "text/plain": [
       "[1] TRUE"
      ]
     },
     "metadata": {},
     "output_type": "display_data"
    }
   ],
   "source": [
    "any(is.na(c(1, NA, NA, 3)))"
   ]
  },
  {
   "cell_type": "code",
   "execution_count": 20,
   "metadata": {
    "scrolled": true
   },
   "outputs": [
    {
     "ename": "ERROR",
     "evalue": "Error in exp(x): non-numeric argument to mathematical function\n",
     "output_type": "error",
     "traceback": [
      "Error in exp(x): non-numeric argument to mathematical function\nTraceback:\n",
      "1. outer_fn(list(1))",
      "2. inner_fn(x)   # at line 1 of file <text>"
     ]
    }
   ],
   "source": [
    "outer_fn <- function(x) inner_fn(x)\n",
    "inner_fn <- function(x)\n",
    "    {\n",
    "    exp(x)\n",
    "}\n",
    "    \n",
    "outer_fn(list(1))"
   ]
  },
  {
   "cell_type": "code",
   "execution_count": 22,
   "metadata": {},
   "outputs": [
    {
     "name": "stderr",
     "output_type": "stream",
     "text": [
      "Warning message:\n",
      "\"package 'learningr' was built under R version 3.4.3\""
     ]
    }
   ],
   "source": [
    "library(learningr)"
   ]
  },
  {
   "cell_type": "code",
   "execution_count": 23,
   "metadata": {},
   "outputs": [
    {
     "name": "stdout",
     "output_type": "stream",
     "text": [
      "debugging in: buggy_count(x)\n",
      "debug: {\n",
      "    if (is.vector(df)) {\n",
      "        df <- data.frame(x = df)\n",
      "    }\n",
      "    if (!is.null(vars)) {\n",
      "        vars <- as.quoted(vars)\n",
      "        df2 <- quickdf(eval.quoted(vars, df))\n",
      "    }\n",
      "    else {\n",
      "        df2 <- df\n",
      "    }\n",
      "    id <- ninteraction(df2, drop = TRUE)\n",
      "    u_id <- !duplicated(id)\n",
      "    labels <- df2[u_id, , drop = FALSE]\n",
      "    labels <- labels[order(id[u_id]), , drop = FALSE]\n",
      "    if (is.null(wt_var) && \"freq\" %in% names(df)) {\n",
      "        message(\"Using freq as weighting variable\")\n",
      "        wt_var <- \"freq\"\n",
      "    }\n",
      "    if (!is.null(wt_var)) {\n",
      "        wt_var <- plyr::as.quoted(wt_var)\n",
      "        if (length(wt_var) > 1) {\n",
      "            stop(\"wt_var must be a single variable\", call. = FALSE)\n",
      "        }\n",
      "        wt <- plyr::eval.quoted(wt_var, df)[[1]]\n",
      "        freq <- plyr::vaggregate(wt, id, sum, .default = 0)\n",
      "    }\n",
      "    else {\n",
      "        freq <- tabulate(id, attr(id, \"n\"))\n",
      "    }\n",
      "    plyr::unrowname(data.frame(labels, freq))\n",
      "}\n",
      "debug: if (is.vector(df)) {\n",
      "    df <- data.frame(x = df)\n",
      "}\n",
      "debug: if (!is.null(vars)) {\n",
      "    vars <- as.quoted(vars)\n",
      "    df2 <- quickdf(eval.quoted(vars, df))\n",
      "} else {\n",
      "    df2 <- df\n",
      "}\n",
      "debug: df2 <- df\n",
      "debug: id <- ninteraction(df2, drop = TRUE)\n",
      "debug: u_id <- !duplicated(id)\n",
      "debug: labels <- df2[u_id, , drop = FALSE]\n"
     ]
    },
    {
     "ename": "ERROR",
     "evalue": "Error in `[.default`(df2, u_id, , drop = FALSE): incorrect number of dimensions\n",
     "output_type": "error",
     "traceback": [
      "Error in `[.default`(df2, u_id, , drop = FALSE): incorrect number of dimensions\nTraceback:\n",
      "1. buggy_count(x)",
      "2. df2[u_id, , drop = FALSE]",
      "3. `[.factor`(df2, u_id, , drop = FALSE)",
      "4. NextMethod(\"[\")"
     ]
    }
   ],
   "source": [
    "debug(buggy_count)\n",
    "x <- factor(sample(c('male', 'female'), 20, replace=TRUE))\n",
    "buggy_count(x)"
   ]
  },
  {
   "cell_type": "code",
   "execution_count": 35,
   "metadata": {},
   "outputs": [
    {
     "data": {
      "text/plain": [
       "[[1]]\n",
       "vapply(c(1, 2, 3), sin, numeric(1))\n"
      ]
     },
     "metadata": {},
     "output_type": "display_data"
    }
   ],
   "source": [
    "parsed_r_code <- parse(text = 'vapply(c(1, 2, 3), sin, numeric(1))')\n",
    "as.list(parsed_r_code)"
   ]
  },
  {
   "cell_type": "code",
   "execution_count": 36,
   "metadata": {},
   "outputs": [
    {
     "data": {
      "image/png": "[encoded data removed]",
      "text/plain": [
       "Plot with title \"Histogram of random_numbers\""
      ]
     },
     "metadata": {},
     "output_type": "display_data"
    }
   ],
   "source": [
    "random_numbers <- rt(1000, 2)\n",
    "hist(random_numbers)"
   ]
  },
  {
   "cell_type": "code",
   "execution_count": 38,
   "metadata": {
    "collapsed": true
   },
   "outputs": [],
   "source": [
    "data(hafu, package='learningr')"
   ]
  },
  {
   "cell_type": "code",
   "execution_count": 42,
   "metadata": {
    "scrolled": false
   },
   "outputs": [
    {
     "data": {
      "text/plain": [
       "  [1] print.acf*                                        \n",
       "  [2] print.AES*                                        \n",
       "  [3] print.anova*                                      \n",
       "  [4] print.aov*                                        \n",
       "  [5] print.aovlist*                                    \n",
       "  [6] print.ar*                                         \n",
       "  [7] print.Arima*                                      \n",
       "  [8] print.arima0*                                     \n",
       "  [9] print.AsIs                                        \n",
       " [10] print.aspell*                                     \n",
       " [11] print.aspell_inspect_context*                     \n",
       " [12] print.bibentry*                                   \n",
       " [13] print.Bibtex*                                     \n",
       " [14] print.browseVignettes*                            \n",
       " [15] print.by                                          \n",
       " [16] print.changedFiles*                               \n",
       " [17] print.check_code_usage_in_package*                \n",
       " [18] print.check_compiled_code*                        \n",
       " [19] print.check_demo_index*                           \n",
       " [20] print.check_depdef*                               \n",
       " [21] print.check_details*                              \n",
       " [22] print.check_details_changes*                      \n",
       " [23] print.check_doi_db*                               \n",
       " [24] print.check_dotInternal*                          \n",
       " [25] print.check_make_vars*                            \n",
       " [26] print.check_nonAPI_calls*                         \n",
       " [27] print.check_package_code_assign_to_globalenv*     \n",
       " [28] print.check_package_code_attach*                  \n",
       " [29] print.check_package_code_data_into_globalenv*     \n",
       " [30] print.check_package_code_startup_functions*       \n",
       " [31] print.check_package_code_syntax*                  \n",
       " [32] print.check_package_code_unload_functions*        \n",
       " [33] print.check_package_compact_datasets*             \n",
       " [34] print.check_package_CRAN_incoming*                \n",
       " [35] print.check_package_datasets*                     \n",
       " [36] print.check_package_depends*                      \n",
       " [37] print.check_package_description*                  \n",
       " [38] print.check_package_description_encoding*         \n",
       " [39] print.check_package_license*                      \n",
       " [40] print.check_packages_in_dir*                      \n",
       " [41] print.check_packages_used*                        \n",
       " [42] print.check_po_files*                             \n",
       " [43] print.check_Rd_contents*                          \n",
       " [44] print.check_Rd_line_widths*                       \n",
       " [45] print.check_Rd_metadata*                          \n",
       " [46] print.check_Rd_xrefs*                             \n",
       " [47] print.check_RegSym_calls*                         \n",
       " [48] print.check_so_symbols*                           \n",
       " [49] print.check_T_and_F*                              \n",
       " [50] print.check_url_db*                               \n",
       " [51] print.check_vignette_index*                       \n",
       " [52] print.checkDocFiles*                              \n",
       " [53] print.checkDocStyle*                              \n",
       " [54] print.checkFF*                                    \n",
       " [55] print.checkRd*                                    \n",
       " [56] print.checkReplaceFuns*                           \n",
       " [57] print.checkS3methods*                             \n",
       " [58] print.checkTnF*                                   \n",
       " [59] print.checkVignettes*                             \n",
       " [60] print.citation*                                   \n",
       " [61] print.codoc*                                      \n",
       " [62] print.codocClasses*                               \n",
       " [63] print.codocData*                                  \n",
       " [64] print.colorConverter*                             \n",
       " [65] print.compactPDF*                                 \n",
       " [66] print.condition                                   \n",
       " [67] print.connection                                  \n",
       " [68] print.CRAN_package_reverse_dependencies_and_views*\n",
       " [69] print.crayon*                                     \n",
       " [70] print.data.frame                                  \n",
       " [71] print.Date                                        \n",
       " [72] print.default                                     \n",
       " [73] print.dendrogram*                                 \n",
       " [74] print.density*                                    \n",
       " [75] print.difftime                                    \n",
       " [76] print.dist*                                       \n",
       " [77] print.Dlist                                       \n",
       " [78] print.DLLInfo                                     \n",
       " [79] print.DLLInfoList                                 \n",
       " [80] print.DLLRegisteredRoutines                       \n",
       " [81] print.dummy_coef*                                 \n",
       " [82] print.dummy_coef_list*                            \n",
       " [83] print.ecdf*                                       \n",
       " [84] print.eigen                                       \n",
       " [85] print.factanal*                                   \n",
       " [86] print.factor                                      \n",
       " [87] print.family*                                     \n",
       " [88] print.fileSnapshot*                               \n",
       " [89] print.findLineNumResult*                          \n",
       " [90] print.formula*                                    \n",
       " [91] print.fseq*                                       \n",
       " [92] print.ftable*                                     \n",
       " [93] print.function                                    \n",
       " [94] print.getAnywhere*                                \n",
       " [95] print.glm*                                        \n",
       " [96] print.hclust*                                     \n",
       " [97] print.help_files_with_topic*                      \n",
       " [98] print.hexmode                                     \n",
       " [99] print.HoltWinters*                                \n",
       "[100] print.hsearch*                                    \n",
       "[101] print.hsearch_db*                                 \n",
       "[102] print.htest*                                      \n",
       "[103] print.infl*                                       \n",
       "[104] print.integrate*                                  \n",
       "[105] print.isoreg*                                     \n",
       "[106] print.json*                                       \n",
       "[107] print.kmeans*                                     \n",
       "[108] print.Latex*                                      \n",
       "[109] print.LaTeX*                                      \n",
       "[110] print.libraryIQR                                  \n",
       "[111] print.listof                                      \n",
       "[112] print.lm*                                         \n",
       "[113] print.loadings*                                   \n",
       "[114] print.loess*                                      \n",
       "[115] print.logLik*                                     \n",
       "[116] print.ls_str*                                     \n",
       "[117] print.medpolish*                                  \n",
       "[118] print.MethodsFunction*                            \n",
       "[119] print.mtable*                                     \n",
       "[120] print.NativeRoutineList                           \n",
       "[121] print.news_db*                                    \n",
       "[122] print.nls*                                        \n",
       "[123] print.noquote                                     \n",
       "[124] print.numeric_version                             \n",
       "[125] print.object_size*                                \n",
       "[126] print.octmode                                     \n",
       "[127] print.packageDescription*                         \n",
       "[128] print.packageInfo                                 \n",
       "[129] print.packageIQR*                                 \n",
       "[130] print.packageStatus*                              \n",
       "[131] print.pairwise.htest*                             \n",
       "[132] print.PDF_Array*                                  \n",
       "[133] print.PDF_Dictionary*                             \n",
       "[134] print.pdf_doc*                                    \n",
       "[135] print.pdf_fonts*                                  \n",
       "[136] print.PDF_Indirect_Reference*                     \n",
       "[137] print.pdf_info*                                   \n",
       "[138] print.PDF_Keyword*                                \n",
       "[139] print.PDF_Name*                                   \n",
       "[140] print.PDF_Stream*                                 \n",
       "[141] print.PDF_String*                                 \n",
       "[142] print.person*                                     \n",
       "[143] print.POSIXct                                     \n",
       "[144] print.POSIXlt                                     \n",
       "[145] print.power.htest*                                \n",
       "[146] print.ppr*                                        \n",
       "[147] print.prcomp*                                     \n",
       "[148] print.princomp*                                   \n",
       "[149] print.proc_time                                   \n",
       "[150] print.R6*                                         \n",
       "[151] print.R6ClassGenerator*                           \n",
       "[152] print.raster*                                     \n",
       "[153] print.Rd*                                         \n",
       "[154] print.recordedplot*                               \n",
       "[155] print.restart                                     \n",
       "[156] print.RGBcolorConverter*                          \n",
       "[157] print.rle                                         \n",
       "[158] print.roman*                                      \n",
       "[159] print.SavedPlots*                                 \n",
       "[160] print.scalar*                                     \n",
       "[161] print.sessionInfo*                                \n",
       "[162] print.simple.list                                 \n",
       "[163] print.smooth.spline*                              \n",
       "[164] print.socket*                                     \n",
       "[165] print.srcfile                                     \n",
       "[166] print.srcref                                      \n",
       "[167] print.stepfun*                                    \n",
       "[168] print.stl*                                        \n",
       "[169] print.StructTS*                                   \n",
       "[170] print.subdir_tests*                               \n",
       "[171] print.summarize_CRAN_check_status*                \n",
       "[172] print.summary.aov*                                \n",
       "[173] print.summary.aovlist*                            \n",
       "[174] print.summary.ecdf*                               \n",
       "[175] print.summary.glm*                                \n",
       "[176] print.summary.lm*                                 \n",
       "[177] print.summary.loess*                              \n",
       "[178] print.summary.manova*                             \n",
       "[179] print.summary.nls*                                \n",
       "[180] print.summary.packageStatus*                      \n",
       "[181] print.summary.ppr*                                \n",
       "[182] print.summary.prcomp*                             \n",
       "[183] print.summary.princomp*                           \n",
       "[184] print.summary.table                               \n",
       "[185] print.summaryDefault                              \n",
       "[186] print.table                                       \n",
       "[187] print.tables_aov*                                 \n",
       "[188] print.terms*                                      \n",
       "[189] print.ts*                                         \n",
       "[190] print.tskernel*                                   \n",
       "[191] print.TukeyHSD*                                   \n",
       "[192] print.tukeyline*                                  \n",
       "[193] print.tukeysmooth*                                \n",
       "[194] print.undoc*                                      \n",
       "[195] print.vignette                                    \n",
       "[196] print.warnings                                    \n",
       "[197] print.xgettext*                                   \n",
       "[198] print.xngettext*                                  \n",
       "[199] print.xtabs*                                      \n",
       "see '?methods' for accessing help and source code"
      ]
     },
     "metadata": {},
     "output_type": "display_data"
    }
   ],
   "source": [
    "methods(print)"
   ]
  },
  {
   "cell_type": "code",
   "execution_count": 67,
   "metadata": {},
   "outputs": [
    {
     "ename": "ERROR",
     "evalue": "Error in harmonic_mean(arg): Input is not a numeric vector\n",
     "output_type": "error",
     "traceback": [
      "Error in harmonic_mean(arg): Input is not a numeric vector\nTraceback:\n",
      "1. harmonic_mean(arg)",
      "2. stop(\"Input is not a numeric vector\")   # at line 5 of file <text>"
     ]
    }
   ],
   "source": [
    "# 16.1\n",
    "harmonic_mean <- function(x) {\n",
    "    \n",
    "    if(class(x) != 'numeric'){\n",
    "        stop('Input is not a numeric vector')\n",
    "    }\n",
    "    \n",
    "    if(!all(x > 0)) {\n",
    "        stop('Input has non-positive arguments')\n",
    "    }\n",
    "    \n",
    "    return(1 / mean(1 / x))\n",
    "}\n",
    "\n",
    "arg = c('a', 'b')\n",
    "harmonic_mean(arg)"
   ]
  },
  {
   "cell_type": "code",
   "execution_count": 69,
   "metadata": {},
   "outputs": [],
   "source": [
    "x <- 3\n",
    "class(x) <- 'harmonic'"
   ]
  },
  {
   "cell_type": "code",
   "execution_count": 70,
   "metadata": {},
   "outputs": [
    {
     "data": {
      "text/plain": [
       "[1] 3\n",
       "attr(,\"class\")\n",
       "[1] \"harmonic\""
      ]
     },
     "metadata": {},
     "output_type": "display_data"
    }
   ],
   "source": [
    "x"
   ]
  }
 ],
 "metadata": {
  "kernelspec": {
   "display_name": "R",
   "language": "R",
   "name": "ir"
  },
  "language_info": {
   "codemirror_mode": "r",
   "file_extension": ".r",
   "mimetype": "text/x-r-source",
   "name": "R",
   "pygments_lexer": "r",
   "version": "3.4.2"
  }
 },
 "nbformat": 4,
 "nbformat_minor": 2
}
