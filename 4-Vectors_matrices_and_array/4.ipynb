{
 "cells": [
  {
   "cell_type": "code",
   "execution_count": null,
   "metadata": {
    "collapsed": true
   },
   "outputs": [],
   "source": [
    "v <- c(1, 2, 3)\n",
    "names(v) <- c('a', 'b', 'c')"
   ]
  },
  {
   "cell_type": "code",
   "execution_count": 78,
   "metadata": {},
   "outputs": [
    {
     "data": {
      "text/html": [
       "<dl class=dl-horizontal>\n",
       "\t<dt>a</dt>\n",
       "\t\t<dd>1</dd>\n",
       "\t<dt>e</dt>\n",
       "\t\t<dd>15</dd>\n",
       "\t<dt>i</dt>\n",
       "\t\t<dd>45</dd>\n",
       "\t<dt>o</dt>\n",
       "\t\t<dd>120</dd>\n",
       "</dl>\n"
      ],
      "text/latex": [
       "\\begin{description*}\n",
       "\\item[a] 1\n",
       "\\item[e] 15\n",
       "\\item[i] 45\n",
       "\\item[o] 120\n",
       "\\end{description*}\n"
      ],
      "text/markdown": [
       "a\n",
       ":   1e\n",
       ":   15i\n",
       ":   45o\n",
       ":   120\n",
       "\n"
      ],
      "text/plain": [
       "  a   e   i   o \n",
       "  1  15  45 120 "
      ]
     },
     "metadata": {},
     "output_type": "display_data"
    }
   ],
   "source": [
    "# 4.1\n",
    "n <- seq.int(20)\n",
    "triangular_numbers <- n * (n + 1) / 2\n",
    "names(triangular_numbers) <- letters[n]\n",
    "\n",
    "# Named vectors can be indexed by their names\n",
    "triangular_numbers[c('a', 'e', 'i', 'o')]"
   ]
  },
  {
   "cell_type": "code",
   "execution_count": 74,
   "metadata": {},
   "outputs": [
    {
     "data": {
      "text/html": [
       "<ol class=list-inline>\n",
       "\t<li>21</li>\n",
       "\t<li>21</li>\n",
       "</ol>\n"
      ],
      "text/latex": [
       "\\begin{enumerate*}\n",
       "\\item 21\n",
       "\\item 21\n",
       "\\end{enumerate*}\n"
      ],
      "text/markdown": [
       "1. 21\n",
       "2. 21\n",
       "\n",
       "\n"
      ],
      "text/plain": [
       "[1] 21 21"
      ]
     },
     "metadata": {},
     "output_type": "display_data"
    }
   ],
   "source": [
    "# 4.2\n",
    "v_diag <- c(10:0, 1:10)\n",
    "v_square <- diag(v_diag)\n",
    "dim(v_square)"
   ]
  },
  {
   "cell_type": "code",
   "execution_count": 75,
   "metadata": {},
   "outputs": [
    {
     "data": {
      "text/html": [
       "<table>\n",
       "<tbody>\n",
       "\t<tr><td>10 </td><td>1  </td><td>0  </td><td>0  </td><td>0  </td><td>0  </td><td>0  </td><td>0  </td><td>0  </td><td>0  </td><td>...</td><td>0  </td><td>0  </td><td>0  </td><td>0  </td><td>0  </td><td>0  </td><td>0  </td><td>0  </td><td>0  </td><td> 0 </td></tr>\n",
       "\t<tr><td> 1 </td><td>9  </td><td>1  </td><td>0  </td><td>0  </td><td>0  </td><td>0  </td><td>0  </td><td>0  </td><td>0  </td><td>...</td><td>0  </td><td>0  </td><td>0  </td><td>0  </td><td>0  </td><td>0  </td><td>0  </td><td>0  </td><td>0  </td><td> 0 </td></tr>\n",
       "\t<tr><td> 0 </td><td>1  </td><td>8  </td><td>1  </td><td>0  </td><td>0  </td><td>0  </td><td>0  </td><td>0  </td><td>0  </td><td>...</td><td>0  </td><td>0  </td><td>0  </td><td>0  </td><td>0  </td><td>0  </td><td>0  </td><td>0  </td><td>0  </td><td> 0 </td></tr>\n",
       "\t<tr><td> 0 </td><td>0  </td><td>1  </td><td>7  </td><td>1  </td><td>0  </td><td>0  </td><td>0  </td><td>0  </td><td>0  </td><td>...</td><td>0  </td><td>0  </td><td>0  </td><td>0  </td><td>0  </td><td>0  </td><td>0  </td><td>0  </td><td>0  </td><td> 0 </td></tr>\n",
       "\t<tr><td> 0 </td><td>0  </td><td>0  </td><td>1  </td><td>6  </td><td>1  </td><td>0  </td><td>0  </td><td>0  </td><td>0  </td><td>...</td><td>0  </td><td>0  </td><td>0  </td><td>0  </td><td>0  </td><td>0  </td><td>0  </td><td>0  </td><td>0  </td><td> 0 </td></tr>\n",
       "\t<tr><td> 0 </td><td>0  </td><td>0  </td><td>0  </td><td>1  </td><td>5  </td><td>1  </td><td>0  </td><td>0  </td><td>0  </td><td>...</td><td>0  </td><td>0  </td><td>0  </td><td>0  </td><td>0  </td><td>0  </td><td>0  </td><td>0  </td><td>0  </td><td> 0 </td></tr>\n",
       "\t<tr><td> 0 </td><td>0  </td><td>0  </td><td>0  </td><td>0  </td><td>1  </td><td>4  </td><td>1  </td><td>0  </td><td>0  </td><td>...</td><td>0  </td><td>0  </td><td>0  </td><td>0  </td><td>0  </td><td>0  </td><td>0  </td><td>0  </td><td>0  </td><td> 0 </td></tr>\n",
       "\t<tr><td> 0 </td><td>0  </td><td>0  </td><td>0  </td><td>0  </td><td>0  </td><td>1  </td><td>3  </td><td>1  </td><td>0  </td><td>...</td><td>0  </td><td>0  </td><td>0  </td><td>0  </td><td>0  </td><td>0  </td><td>0  </td><td>0  </td><td>0  </td><td> 0 </td></tr>\n",
       "\t<tr><td> 0 </td><td>0  </td><td>0  </td><td>0  </td><td>0  </td><td>0  </td><td>0  </td><td>1  </td><td>2  </td><td>1  </td><td>...</td><td>0  </td><td>0  </td><td>0  </td><td>0  </td><td>0  </td><td>0  </td><td>0  </td><td>0  </td><td>0  </td><td> 0 </td></tr>\n",
       "\t<tr><td> 0 </td><td>0  </td><td>0  </td><td>0  </td><td>0  </td><td>0  </td><td>0  </td><td>0  </td><td>1  </td><td>1  </td><td>...</td><td>0  </td><td>0  </td><td>0  </td><td>0  </td><td>0  </td><td>0  </td><td>0  </td><td>0  </td><td>0  </td><td> 0 </td></tr>\n",
       "\t<tr><td> 0 </td><td>0  </td><td>0  </td><td>0  </td><td>0  </td><td>0  </td><td>0  </td><td>0  </td><td>0  </td><td>1  </td><td>...</td><td>1  </td><td>0  </td><td>0  </td><td>0  </td><td>0  </td><td>0  </td><td>0  </td><td>0  </td><td>0  </td><td> 0 </td></tr>\n",
       "\t<tr><td> 0 </td><td>0  </td><td>0  </td><td>0  </td><td>0  </td><td>0  </td><td>0  </td><td>0  </td><td>0  </td><td>0  </td><td>...</td><td>1  </td><td>1  </td><td>0  </td><td>0  </td><td>0  </td><td>0  </td><td>0  </td><td>0  </td><td>0  </td><td> 0 </td></tr>\n",
       "\t<tr><td> 0 </td><td>0  </td><td>0  </td><td>0  </td><td>0  </td><td>0  </td><td>0  </td><td>0  </td><td>0  </td><td>0  </td><td>...</td><td>1  </td><td>2  </td><td>1  </td><td>0  </td><td>0  </td><td>0  </td><td>0  </td><td>0  </td><td>0  </td><td> 0 </td></tr>\n",
       "\t<tr><td> 0 </td><td>0  </td><td>0  </td><td>0  </td><td>0  </td><td>0  </td><td>0  </td><td>0  </td><td>0  </td><td>0  </td><td>...</td><td>0  </td><td>1  </td><td>3  </td><td>1  </td><td>0  </td><td>0  </td><td>0  </td><td>0  </td><td>0  </td><td> 0 </td></tr>\n",
       "\t<tr><td> 0 </td><td>0  </td><td>0  </td><td>0  </td><td>0  </td><td>0  </td><td>0  </td><td>0  </td><td>0  </td><td>0  </td><td>...</td><td>0  </td><td>0  </td><td>1  </td><td>4  </td><td>1  </td><td>0  </td><td>0  </td><td>0  </td><td>0  </td><td> 0 </td></tr>\n",
       "\t<tr><td> 0 </td><td>0  </td><td>0  </td><td>0  </td><td>0  </td><td>0  </td><td>0  </td><td>0  </td><td>0  </td><td>0  </td><td>...</td><td>0  </td><td>0  </td><td>0  </td><td>1  </td><td>5  </td><td>1  </td><td>0  </td><td>0  </td><td>0  </td><td> 0 </td></tr>\n",
       "\t<tr><td> 0 </td><td>0  </td><td>0  </td><td>0  </td><td>0  </td><td>0  </td><td>0  </td><td>0  </td><td>0  </td><td>0  </td><td>...</td><td>0  </td><td>0  </td><td>0  </td><td>0  </td><td>1  </td><td>6  </td><td>1  </td><td>0  </td><td>0  </td><td> 0 </td></tr>\n",
       "\t<tr><td> 0 </td><td>0  </td><td>0  </td><td>0  </td><td>0  </td><td>0  </td><td>0  </td><td>0  </td><td>0  </td><td>0  </td><td>...</td><td>0  </td><td>0  </td><td>0  </td><td>0  </td><td>0  </td><td>1  </td><td>7  </td><td>1  </td><td>0  </td><td> 0 </td></tr>\n",
       "\t<tr><td> 0 </td><td>0  </td><td>0  </td><td>0  </td><td>0  </td><td>0  </td><td>0  </td><td>0  </td><td>0  </td><td>0  </td><td>...</td><td>0  </td><td>0  </td><td>0  </td><td>0  </td><td>0  </td><td>0  </td><td>1  </td><td>8  </td><td>1  </td><td> 0 </td></tr>\n",
       "\t<tr><td> 0 </td><td>0  </td><td>0  </td><td>0  </td><td>0  </td><td>0  </td><td>0  </td><td>0  </td><td>0  </td><td>0  </td><td>...</td><td>0  </td><td>0  </td><td>0  </td><td>0  </td><td>0  </td><td>0  </td><td>0  </td><td>1  </td><td>9  </td><td> 1 </td></tr>\n",
       "\t<tr><td> 0 </td><td>0  </td><td>0  </td><td>0  </td><td>0  </td><td>0  </td><td>0  </td><td>0  </td><td>0  </td><td>0  </td><td>...</td><td>0  </td><td>0  </td><td>0  </td><td>0  </td><td>0  </td><td>0  </td><td>0  </td><td>0  </td><td>1  </td><td>10 </td></tr>\n",
       "</tbody>\n",
       "</table>\n"
      ],
      "text/latex": [
       "\\begin{tabular}{lllllllllllllllllllll}\n",
       "\t 10  & 1   & 0   & 0   & 0   & 0   & 0   & 0   & 0   & 0   & ... & 0   & 0   & 0   & 0   & 0   & 0   & 0   & 0   & 0   &  0 \\\\\n",
       "\t  1  & 9   & 1   & 0   & 0   & 0   & 0   & 0   & 0   & 0   & ... & 0   & 0   & 0   & 0   & 0   & 0   & 0   & 0   & 0   &  0 \\\\\n",
       "\t  0  & 1   & 8   & 1   & 0   & 0   & 0   & 0   & 0   & 0   & ... & 0   & 0   & 0   & 0   & 0   & 0   & 0   & 0   & 0   &  0 \\\\\n",
       "\t  0  & 0   & 1   & 7   & 1   & 0   & 0   & 0   & 0   & 0   & ... & 0   & 0   & 0   & 0   & 0   & 0   & 0   & 0   & 0   &  0 \\\\\n",
       "\t  0  & 0   & 0   & 1   & 6   & 1   & 0   & 0   & 0   & 0   & ... & 0   & 0   & 0   & 0   & 0   & 0   & 0   & 0   & 0   &  0 \\\\\n",
       "\t  0  & 0   & 0   & 0   & 1   & 5   & 1   & 0   & 0   & 0   & ... & 0   & 0   & 0   & 0   & 0   & 0   & 0   & 0   & 0   &  0 \\\\\n",
       "\t  0  & 0   & 0   & 0   & 0   & 1   & 4   & 1   & 0   & 0   & ... & 0   & 0   & 0   & 0   & 0   & 0   & 0   & 0   & 0   &  0 \\\\\n",
       "\t  0  & 0   & 0   & 0   & 0   & 0   & 1   & 3   & 1   & 0   & ... & 0   & 0   & 0   & 0   & 0   & 0   & 0   & 0   & 0   &  0 \\\\\n",
       "\t  0  & 0   & 0   & 0   & 0   & 0   & 0   & 1   & 2   & 1   & ... & 0   & 0   & 0   & 0   & 0   & 0   & 0   & 0   & 0   &  0 \\\\\n",
       "\t  0  & 0   & 0   & 0   & 0   & 0   & 0   & 0   & 1   & 1   & ... & 0   & 0   & 0   & 0   & 0   & 0   & 0   & 0   & 0   &  0 \\\\\n",
       "\t  0  & 0   & 0   & 0   & 0   & 0   & 0   & 0   & 0   & 1   & ... & 1   & 0   & 0   & 0   & 0   & 0   & 0   & 0   & 0   &  0 \\\\\n",
       "\t  0  & 0   & 0   & 0   & 0   & 0   & 0   & 0   & 0   & 0   & ... & 1   & 1   & 0   & 0   & 0   & 0   & 0   & 0   & 0   &  0 \\\\\n",
       "\t  0  & 0   & 0   & 0   & 0   & 0   & 0   & 0   & 0   & 0   & ... & 1   & 2   & 1   & 0   & 0   & 0   & 0   & 0   & 0   &  0 \\\\\n",
       "\t  0  & 0   & 0   & 0   & 0   & 0   & 0   & 0   & 0   & 0   & ... & 0   & 1   & 3   & 1   & 0   & 0   & 0   & 0   & 0   &  0 \\\\\n",
       "\t  0  & 0   & 0   & 0   & 0   & 0   & 0   & 0   & 0   & 0   & ... & 0   & 0   & 1   & 4   & 1   & 0   & 0   & 0   & 0   &  0 \\\\\n",
       "\t  0  & 0   & 0   & 0   & 0   & 0   & 0   & 0   & 0   & 0   & ... & 0   & 0   & 0   & 1   & 5   & 1   & 0   & 0   & 0   &  0 \\\\\n",
       "\t  0  & 0   & 0   & 0   & 0   & 0   & 0   & 0   & 0   & 0   & ... & 0   & 0   & 0   & 0   & 1   & 6   & 1   & 0   & 0   &  0 \\\\\n",
       "\t  0  & 0   & 0   & 0   & 0   & 0   & 0   & 0   & 0   & 0   & ... & 0   & 0   & 0   & 0   & 0   & 1   & 7   & 1   & 0   &  0 \\\\\n",
       "\t  0  & 0   & 0   & 0   & 0   & 0   & 0   & 0   & 0   & 0   & ... & 0   & 0   & 0   & 0   & 0   & 0   & 1   & 8   & 1   &  0 \\\\\n",
       "\t  0  & 0   & 0   & 0   & 0   & 0   & 0   & 0   & 0   & 0   & ... & 0   & 0   & 0   & 0   & 0   & 0   & 0   & 1   & 9   &  1 \\\\\n",
       "\t  0  & 0   & 0   & 0   & 0   & 0   & 0   & 0   & 0   & 0   & ... & 0   & 0   & 0   & 0   & 0   & 0   & 0   & 0   & 1   & 10 \\\\\n",
       "\\end{tabular}\n"
      ],
      "text/markdown": [
       "\n",
       "| 10  | 1   | 0   | 0   | 0   | 0   | 0   | 0   | 0   | 0   | ... | 0   | 0   | 0   | 0   | 0   | 0   | 0   | 0   | 0   |  0  | \n",
       "|  1  | 9   | 1   | 0   | 0   | 0   | 0   | 0   | 0   | 0   | ... | 0   | 0   | 0   | 0   | 0   | 0   | 0   | 0   | 0   |  0  | \n",
       "|  0  | 1   | 8   | 1   | 0   | 0   | 0   | 0   | 0   | 0   | ... | 0   | 0   | 0   | 0   | 0   | 0   | 0   | 0   | 0   |  0  | \n",
       "|  0  | 0   | 1   | 7   | 1   | 0   | 0   | 0   | 0   | 0   | ... | 0   | 0   | 0   | 0   | 0   | 0   | 0   | 0   | 0   |  0  | \n",
       "|  0  | 0   | 0   | 1   | 6   | 1   | 0   | 0   | 0   | 0   | ... | 0   | 0   | 0   | 0   | 0   | 0   | 0   | 0   | 0   |  0  | \n",
       "|  0  | 0   | 0   | 0   | 1   | 5   | 1   | 0   | 0   | 0   | ... | 0   | 0   | 0   | 0   | 0   | 0   | 0   | 0   | 0   |  0  | \n",
       "|  0  | 0   | 0   | 0   | 0   | 1   | 4   | 1   | 0   | 0   | ... | 0   | 0   | 0   | 0   | 0   | 0   | 0   | 0   | 0   |  0  | \n",
       "|  0  | 0   | 0   | 0   | 0   | 0   | 1   | 3   | 1   | 0   | ... | 0   | 0   | 0   | 0   | 0   | 0   | 0   | 0   | 0   |  0  | \n",
       "|  0  | 0   | 0   | 0   | 0   | 0   | 0   | 1   | 2   | 1   | ... | 0   | 0   | 0   | 0   | 0   | 0   | 0   | 0   | 0   |  0  | \n",
       "|  0  | 0   | 0   | 0   | 0   | 0   | 0   | 0   | 1   | 1   | ... | 0   | 0   | 0   | 0   | 0   | 0   | 0   | 0   | 0   |  0  | \n",
       "|  0  | 0   | 0   | 0   | 0   | 0   | 0   | 0   | 0   | 1   | ... | 1   | 0   | 0   | 0   | 0   | 0   | 0   | 0   | 0   |  0  | \n",
       "|  0  | 0   | 0   | 0   | 0   | 0   | 0   | 0   | 0   | 0   | ... | 1   | 1   | 0   | 0   | 0   | 0   | 0   | 0   | 0   |  0  | \n",
       "|  0  | 0   | 0   | 0   | 0   | 0   | 0   | 0   | 0   | 0   | ... | 1   | 2   | 1   | 0   | 0   | 0   | 0   | 0   | 0   |  0  | \n",
       "|  0  | 0   | 0   | 0   | 0   | 0   | 0   | 0   | 0   | 0   | ... | 0   | 1   | 3   | 1   | 0   | 0   | 0   | 0   | 0   |  0  | \n",
       "|  0  | 0   | 0   | 0   | 0   | 0   | 0   | 0   | 0   | 0   | ... | 0   | 0   | 1   | 4   | 1   | 0   | 0   | 0   | 0   |  0  | \n",
       "|  0  | 0   | 0   | 0   | 0   | 0   | 0   | 0   | 0   | 0   | ... | 0   | 0   | 0   | 1   | 5   | 1   | 0   | 0   | 0   |  0  | \n",
       "|  0  | 0   | 0   | 0   | 0   | 0   | 0   | 0   | 0   | 0   | ... | 0   | 0   | 0   | 0   | 1   | 6   | 1   | 0   | 0   |  0  | \n",
       "|  0  | 0   | 0   | 0   | 0   | 0   | 0   | 0   | 0   | 0   | ... | 0   | 0   | 0   | 0   | 0   | 1   | 7   | 1   | 0   |  0  | \n",
       "|  0  | 0   | 0   | 0   | 0   | 0   | 0   | 0   | 0   | 0   | ... | 0   | 0   | 0   | 0   | 0   | 0   | 1   | 8   | 1   |  0  | \n",
       "|  0  | 0   | 0   | 0   | 0   | 0   | 0   | 0   | 0   | 0   | ... | 0   | 0   | 0   | 0   | 0   | 0   | 0   | 1   | 9   |  1  | \n",
       "|  0  | 0   | 0   | 0   | 0   | 0   | 0   | 0   | 0   | 0   | ... | 0   | 0   | 0   | 0   | 0   | 0   | 0   | 0   | 1   | 10  | \n",
       "\n",
       "\n"
      ],
      "text/plain": [
       "      [,1] [,2] [,3] [,4] [,5] [,6] [,7] [,8] [,9] [,10] [,11] [,12] [,13]\n",
       " [1,] 10   1    0    0    0    0    0    0    0    0     ...   0     0    \n",
       " [2,]  1   9    1    0    0    0    0    0    0    0     ...   0     0    \n",
       " [3,]  0   1    8    1    0    0    0    0    0    0     ...   0     0    \n",
       " [4,]  0   0    1    7    1    0    0    0    0    0     ...   0     0    \n",
       " [5,]  0   0    0    1    6    1    0    0    0    0     ...   0     0    \n",
       " [6,]  0   0    0    0    1    5    1    0    0    0     ...   0     0    \n",
       " [7,]  0   0    0    0    0    1    4    1    0    0     ...   0     0    \n",
       " [8,]  0   0    0    0    0    0    1    3    1    0     ...   0     0    \n",
       " [9,]  0   0    0    0    0    0    0    1    2    1     ...   0     0    \n",
       "[10,]  0   0    0    0    0    0    0    0    1    1     ...   0     0    \n",
       "[11,]  0   0    0    0    0    0    0    0    0    1     ...   1     0    \n",
       "[12,]  0   0    0    0    0    0    0    0    0    0     ...   1     1    \n",
       "[13,]  0   0    0    0    0    0    0    0    0    0     ...   1     2    \n",
       "[14,]  0   0    0    0    0    0    0    0    0    0     ...   0     1    \n",
       "[15,]  0   0    0    0    0    0    0    0    0    0     ...   0     0    \n",
       "[16,]  0   0    0    0    0    0    0    0    0    0     ...   0     0    \n",
       "[17,]  0   0    0    0    0    0    0    0    0    0     ...   0     0    \n",
       "[18,]  0   0    0    0    0    0    0    0    0    0     ...   0     0    \n",
       "[19,]  0   0    0    0    0    0    0    0    0    0     ...   0     0    \n",
       "[20,]  0   0    0    0    0    0    0    0    0    0     ...   0     0    \n",
       "[21,]  0   0    0    0    0    0    0    0    0    0     ...   0     0    \n",
       "      [,14] [,15] [,16] [,17] [,18] [,19] [,20] [,21]\n",
       " [1,] 0     0     0     0     0     0     0      0   \n",
       " [2,] 0     0     0     0     0     0     0      0   \n",
       " [3,] 0     0     0     0     0     0     0      0   \n",
       " [4,] 0     0     0     0     0     0     0      0   \n",
       " [5,] 0     0     0     0     0     0     0      0   \n",
       " [6,] 0     0     0     0     0     0     0      0   \n",
       " [7,] 0     0     0     0     0     0     0      0   \n",
       " [8,] 0     0     0     0     0     0     0      0   \n",
       " [9,] 0     0     0     0     0     0     0      0   \n",
       "[10,] 0     0     0     0     0     0     0      0   \n",
       "[11,] 0     0     0     0     0     0     0      0   \n",
       "[12,] 0     0     0     0     0     0     0      0   \n",
       "[13,] 1     0     0     0     0     0     0      0   \n",
       "[14,] 3     1     0     0     0     0     0      0   \n",
       "[15,] 1     4     1     0     0     0     0      0   \n",
       "[16,] 0     1     5     1     0     0     0      0   \n",
       "[17,] 0     0     1     6     1     0     0      0   \n",
       "[18,] 0     0     0     1     7     1     0      0   \n",
       "[19,] 0     0     0     0     1     8     1      0   \n",
       "[20,] 0     0     0     0     0     1     9      1   \n",
       "[21,] 0     0     0     0     0     0     1     10   "
      ]
     },
     "metadata": {},
     "output_type": "display_data"
    }
   ],
   "source": [
    "# 4.3\n",
    "diag_one <- diag(nrow = 20, ncol = 21)\n",
    "ones_below <- rbind(numeric(21), diag_one)\n",
    "ones_above <- t(ones_below)\n",
    "wilkinson <- ones_below + v_square + ones_above\n",
    "wilkinson"
   ]
  }
 ],
 "metadata": {
  "kernelspec": {
   "display_name": "R",
   "language": "R",
   "name": "ir"
  },
  "language_info": {
   "codemirror_mode": "r",
   "file_extension": ".r",
   "mimetype": "text/x-r-source",
   "name": "R",
   "pygments_lexer": "r",
   "version": "3.4.2"
  }
 },
 "nbformat": 4,
 "nbformat_minor": 2
}
