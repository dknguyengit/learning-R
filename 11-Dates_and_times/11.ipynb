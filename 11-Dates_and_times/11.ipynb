{
 "cells": [
  {
   "cell_type": "code",
   "execution_count": 1,
   "metadata": {
    "collapsed": true
   },
   "outputs": [],
   "source": [
    "now_ct <- Sys.time()"
   ]
  },
  {
   "cell_type": "code",
   "execution_count": 6,
   "metadata": {},
   "outputs": [],
   "source": [
    "now_lt <- as.POSIXlt(now_ct)"
   ]
  },
  {
   "cell_type": "code",
   "execution_count": 12,
   "metadata": {},
   "outputs": [
    {
     "data": {
      "text/html": [
       "<dl>\n",
       "\t<dt>$a</dt>\n",
       "\t\t<dd>1</dd>\n",
       "\t<dt>$b</dt>\n",
       "\t\t<dd>2</dd>\n",
       "</dl>\n"
      ],
      "text/latex": [
       "\\begin{description}\n",
       "\\item[\\$a] 1\n",
       "\\item[\\$b] 2\n",
       "\\end{description}\n"
      ],
      "text/markdown": [
       "$a\n",
       ":   1\n",
       "$b\n",
       ":   2\n",
       "\n",
       "\n"
      ],
      "text/plain": [
       "$a\n",
       "[1] 1\n",
       "\n",
       "$b\n",
       "[1] 2\n"
      ]
     },
     "metadata": {},
     "output_type": "display_data"
    }
   ],
   "source": [
    "unclass(list(a = 1, b = 2))"
   ]
  },
  {
   "cell_type": "code",
   "execution_count": 15,
   "metadata": {},
   "outputs": [
    {
     "data": {
      "text/html": [
       "'Asia/Bangkok'"
      ],
      "text/latex": [
       "'Asia/Bangkok'"
      ],
      "text/markdown": [
       "'Asia/Bangkok'"
      ],
      "text/plain": [
       "[1] \"Asia/Bangkok\""
      ]
     },
     "metadata": {},
     "output_type": "display_data"
    }
   ],
   "source": [
    "Sys.timezone()"
   ]
  },
  {
   "cell_type": "code",
   "execution_count": 16,
   "metadata": {},
   "outputs": [
    {
     "data": {
      "text/html": [
       "'C:/Users/nguye/Anaconda3/R/share/zoneinfo/zone.tab'"
      ],
      "text/latex": [
       "'C:/Users/nguye/Anaconda3/R/share/zoneinfo/zone.tab'"
      ],
      "text/markdown": [
       "'C:/Users/nguye/Anaconda3/R/share/zoneinfo/zone.tab'"
      ],
      "text/plain": [
       "[1] \"C:/Users/nguye/Anaconda3/R/share/zoneinfo/zone.tab\""
      ]
     },
     "metadata": {},
     "output_type": "display_data"
    }
   ],
   "source": [
    "file.path(R.home('share'), 'zoneinfo', 'zone.tab')"
   ]
  },
  {
   "cell_type": "code",
   "execution_count": 19,
   "metadata": {},
   "outputs": [],
   "source": [
    "diff <- as.Date('1990-01-01') - as.Date('1970-01-01')"
   ]
  },
  {
   "cell_type": "code",
   "execution_count": 20,
   "metadata": {},
   "outputs": [
    {
     "data": {
      "text/html": [
       "7305"
      ],
      "text/latex": [
       "7305"
      ],
      "text/markdown": [
       "7305"
      ],
      "text/plain": [
       "[1] 7305\n",
       "attr(,\"units\")\n",
       "[1] \"days\""
      ]
     },
     "metadata": {},
     "output_type": "display_data"
    }
   ],
   "source": [
    "unclass(diff)"
   ]
  },
  {
   "cell_type": "code",
   "execution_count": 25,
   "metadata": {},
   "outputs": [
    {
     "data": {
      "text/html": [
       "<dl>\n",
       "\t<dt>$units</dt>\n",
       "\t\t<dd>'days'</dd>\n",
       "\t<dt>$class</dt>\n",
       "\t\t<dd>'difftime'</dd>\n",
       "</dl>\n"
      ],
      "text/latex": [
       "\\begin{description}\n",
       "\\item[\\$units] 'days'\n",
       "\\item[\\$class] 'difftime'\n",
       "\\end{description}\n"
      ],
      "text/markdown": [
       "$units\n",
       ":   'days'\n",
       "$class\n",
       ":   'difftime'\n",
       "\n",
       "\n"
      ],
      "text/plain": [
       "$units\n",
       "[1] \"days\"\n",
       "\n",
       "$class\n",
       "[1] \"difftime\"\n"
      ]
     },
     "metadata": {},
     "output_type": "display_data"
    }
   ],
   "source": [
    "attributes(diff)"
   ]
  },
  {
   "cell_type": "code",
   "execution_count": 28,
   "metadata": {},
   "outputs": [
    {
     "name": "stderr",
     "output_type": "stream",
     "text": [
      "\n",
      "Attaching package: 'lubridate'\n",
      "\n",
      "The following object is masked from 'package:base':\n",
      "\n",
      "    date\n",
      "\n"
     ]
    }
   ],
   "source": [
    "library(lubridate)"
   ]
  },
  {
   "cell_type": "code",
   "execution_count": 29,
   "metadata": {
    "collapsed": true
   },
   "outputs": [],
   "source": [
    "?stamp"
   ]
  },
  {
   "cell_type": "code",
   "execution_count": 32,
   "metadata": {},
   "outputs": [
    {
     "name": "stderr",
     "output_type": "stream",
     "text": [
      "Multiple formats matched: \"%B %d, %Y\"(1), \"March %m, %Y\"(1)\n",
      "Using: \"%B %d, %Y\"\n"
     ]
    },
    {
     "data": {
      "text/html": [
       "<ol class=list-inline>\n",
       "\t<li>'April 04, 2010'</li>\n",
       "\t<li>'April 03, 2010'</li>\n",
       "\t<li>'April 02, 2010'</li>\n",
       "\t<li>'April 01, 2010'</li>\n",
       "\t<li>'March 31, 2010'</li>\n",
       "</ol>\n"
      ],
      "text/latex": [
       "\\begin{enumerate*}\n",
       "\\item 'April 04, 2010'\n",
       "\\item 'April 03, 2010'\n",
       "\\item 'April 02, 2010'\n",
       "\\item 'April 01, 2010'\n",
       "\\item 'March 31, 2010'\n",
       "\\end{enumerate*}\n"
      ],
      "text/markdown": [
       "1. 'April 04, 2010'\n",
       "2. 'April 03, 2010'\n",
       "3. 'April 02, 2010'\n",
       "4. 'April 01, 2010'\n",
       "5. 'March 31, 2010'\n",
       "\n",
       "\n"
      ],
      "text/plain": [
       "[1] \"April 04, 2010\" \"April 03, 2010\" \"April 02, 2010\" \"April 01, 2010\"\n",
       "[5] \"March 31, 2010\""
      ]
     },
     "metadata": {},
     "output_type": "display_data"
    }
   ],
   "source": [
    "D <- ymd(\"2010-04-05\") - days(1:5)\n",
    "stamp(\"March 1, 1999\")(D)"
   ]
  },
  {
   "cell_type": "code",
   "execution_count": 37,
   "metadata": {},
   "outputs": [
    {
     "data": {
      "text/html": [
       "'character'"
      ],
      "text/latex": [
       "'character'"
      ],
      "text/markdown": [
       "'character'"
      ],
      "text/plain": [
       "[1] \"character\""
      ]
     },
     "metadata": {},
     "output_type": "display_data"
    }
   ],
   "source": [
    "class(strftime(strptime('20/07/1969', '%d/%m/%Y')))"
   ]
  },
  {
   "cell_type": "code",
   "execution_count": 39,
   "metadata": {},
   "outputs": [],
   "source": [
    "# 11.1\n",
    "beatles_birthdates <- c('1940-07-07', '1940-10-09', '1942-06-18', '1943-02-25')"
   ]
  },
  {
   "cell_type": "code",
   "execution_count": 41,
   "metadata": {},
   "outputs": [],
   "source": [
    "beatles_lt_birthdates <- strptime(beatles_birthdates, '%Y-%m-%d')"
   ]
  },
  {
   "cell_type": "code",
   "execution_count": 46,
   "metadata": {},
   "outputs": [
    {
     "data": {
      "text/html": [
       "<ol class=list-inline>\n",
       "\t<li>'Sun 07 Jul 40'</li>\n",
       "\t<li>'Wed 09 Oct 40'</li>\n",
       "\t<li>'Thu 18 Jun 42'</li>\n",
       "\t<li>'Thu 25 Feb 43'</li>\n",
       "</ol>\n"
      ],
      "text/latex": [
       "\\begin{enumerate*}\n",
       "\\item 'Sun 07 Jul 40'\n",
       "\\item 'Wed 09 Oct 40'\n",
       "\\item 'Thu 18 Jun 42'\n",
       "\\item 'Thu 25 Feb 43'\n",
       "\\end{enumerate*}\n"
      ],
      "text/markdown": [
       "1. 'Sun 07 Jul 40'\n",
       "2. 'Wed 09 Oct 40'\n",
       "3. 'Thu 18 Jun 42'\n",
       "4. 'Thu 25 Feb 43'\n",
       "\n",
       "\n"
      ],
      "text/plain": [
       "[1] \"Sun 07 Jul 40\" \"Wed 09 Oct 40\" \"Thu 18 Jun 42\" \"Thu 25 Feb 43\""
      ]
     },
     "metadata": {},
     "output_type": "display_data"
    }
   ],
   "source": [
    "strftime(beatles_lt_birthdates, '%a %d %b %y')"
   ]
  },
  {
   "cell_type": "code",
   "execution_count": 51,
   "metadata": {},
   "outputs": [
    {
     "name": "stdout",
     "output_type": "stream",
     "text": [
      " chr \"America/Caracas\"\n"
     ]
    }
   ],
   "source": [
    "str(OlsonNames()[90])"
   ]
  },
  {
   "cell_type": "code",
   "execution_count": 55,
   "metadata": {},
   "outputs": [
    {
     "data": {
      "text/html": [
       "'C:/Users/nguye/Anaconda3/R/share/zoneinfo/zone.tab'"
      ],
      "text/latex": [
       "'C:/Users/nguye/Anaconda3/R/share/zoneinfo/zone.tab'"
      ],
      "text/markdown": [
       "'C:/Users/nguye/Anaconda3/R/share/zoneinfo/zone.tab'"
      ],
      "text/plain": [
       "[1] \"C:/Users/nguye/Anaconda3/R/share/zoneinfo/zone.tab\""
      ]
     },
     "metadata": {},
     "output_type": "display_data"
    }
   ],
   "source": [
    "file.path(R.home('share'), 'zoneinfo', 'zone.tab')"
   ]
  },
  {
   "cell_type": "code",
   "execution_count": 190,
   "metadata": {},
   "outputs": [],
   "source": [
    "# 11.2\n",
    "?Sys.timezone"
   ]
  },
  {
   "cell_type": "code",
   "execution_count": 191,
   "metadata": {},
   "outputs": [
    {
     "data": {
      "text/html": [
       "'Pisces'"
      ],
      "text/latex": [
       "'Pisces'"
      ],
      "text/markdown": [
       "'Pisces'"
      ],
      "text/plain": [
       "[1] \"Pisces\""
      ]
     },
     "metadata": {},
     "output_type": "display_data"
    }
   ],
   "source": [
    "# 11.3\n",
    "find_zodiac_sign <- function(birthdate){\n",
    "    convert_to_date <- function(dates, year){\n",
    "        return(strptime(paste(dates, year), '%B %d %Y'))\n",
    "    }        \n",
    "    birth_year <- substring(birthdate, nchar(birthdate) - 3, nchar(birthdate))\n",
    "    birthdate <- strptime(birthdate, '%B %d %Y')\n",
    "    \n",
    "    zodiac_signs <- c('Aries', 'Taurus', 'Gemini', 'Cancer', 'Leo', 'Virgo', \n",
    "                      'Libra', 'Scorpio', 'Sagittarius', 'Capricorn', \n",
    "                      'Aquarius', 'Pisces')\n",
    "    start_dates <- c('March 21', 'April 20', 'May 21', 'June 21', 'July 23', \n",
    "                     'August 23', 'September 23', 'October 23', 'November 22', \n",
    "                     'December 22', 'January 20',\n",
    "                   'February 19')\n",
    "    end_dates <- c('April 19', 'May 20', 'June 20', 'July 22', 'August 22',\n",
    "                   'September 22', 'October 22', 'November 21', 'December 21', \n",
    "                   'January 19', 'February 18', 'March 20')\n",
    "    \n",
    "    zodiac_df <- data.frame(zodiac_signs = zodiac_signs,\n",
    "                       start_dates = convert_to_date(start_dates, birth_year),\n",
    "                       end_dates = convert_to_date(end_dates, birth_year),\n",
    "                       stringsAsFactors = FALSE)\n",
    "    \n",
    "    # R seems to autoconvert POSIXlt to POSIXct when creating data frame\n",
    "    # print(class(convert_to_date(start_dates, birth_year)))\n",
    "    # print(class(zodiac_df$start_dates))\n",
    "    \n",
    "    zodiac_sign <- with(zodiac_df, \n",
    "                    zodiac_signs[birthdate %within% \n",
    "                                 interval(start_dates, end_dates)])\n",
    "    return(zodiac_sign)\n",
    "}\n",
    "\n",
    "find_zodiac_sign('February 19 1473')"
   ]
  },
  {
   "cell_type": "code",
   "execution_count": 181,
   "metadata": {},
   "outputs": [
    {
     "data": {
      "text/html": [
       "'Pisces'"
      ],
      "text/latex": [
       "'Pisces'"
      ],
      "text/markdown": [
       "'Pisces'"
      ],
      "text/plain": [
       "[1] \"Pisces\""
      ]
     },
     "metadata": {},
     "output_type": "display_data"
    }
   ],
   "source": []
  }
 ],
 "metadata": {
  "kernelspec": {
   "display_name": "R",
   "language": "R",
   "name": "ir"
  },
  "language_info": {
   "codemirror_mode": "r",
   "file_extension": ".r",
   "mimetype": "text/x-r-source",
   "name": "R",
   "pygments_lexer": "r",
   "version": "3.4.2"
  }
 },
 "nbformat": 4,
 "nbformat_minor": 2
}
