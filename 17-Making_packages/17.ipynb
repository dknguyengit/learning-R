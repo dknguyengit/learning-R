{
 "cells": [
  {
   "cell_type": "code",
   "execution_count": 2,
   "metadata": {
    "collapsed": true
   },
   "outputs": [],
   "source": [
    "sum_of_squares <- function(n) {\n",
    "    return(n * (n + 1) * (2 * n + 1)/6)\n",
    "}"
   ]
  },
  {
   "cell_type": "code",
   "execution_count": 3,
   "metadata": {
    "scrolled": true
   },
   "outputs": [
    {
     "data": {
      "text/html": [
       "<table>\n",
       "<thead><tr><th scope=col>x</th><th scope=col>y</th></tr></thead>\n",
       "<tbody>\n",
       "\t<tr><td> 1 </td><td>  1</td></tr>\n",
       "\t<tr><td> 2 </td><td>  5</td></tr>\n",
       "\t<tr><td> 3 </td><td> 14</td></tr>\n",
       "\t<tr><td> 4 </td><td> 30</td></tr>\n",
       "\t<tr><td> 5 </td><td> 55</td></tr>\n",
       "\t<tr><td> 6 </td><td> 91</td></tr>\n",
       "\t<tr><td> 7 </td><td>140</td></tr>\n",
       "\t<tr><td> 8 </td><td>204</td></tr>\n",
       "\t<tr><td> 9 </td><td>285</td></tr>\n",
       "\t<tr><td>10 </td><td>385</td></tr>\n",
       "</tbody>\n",
       "</table>\n"
      ],
      "text/latex": [
       "\\begin{tabular}{r|ll}\n",
       " x & y\\\\\n",
       "\\hline\n",
       "\t  1  &   1\\\\\n",
       "\t  2  &   5\\\\\n",
       "\t  3  &  14\\\\\n",
       "\t  4  &  30\\\\\n",
       "\t  5  &  55\\\\\n",
       "\t  6  &  91\\\\\n",
       "\t  7  & 140\\\\\n",
       "\t  8  & 204\\\\\n",
       "\t  9  & 285\\\\\n",
       "\t 10  & 385\\\\\n",
       "\\end{tabular}\n"
      ],
      "text/markdown": [
       "\n",
       "x | y | \n",
       "|---|---|---|---|---|---|---|---|---|---|\n",
       "|  1  |   1 | \n",
       "|  2  |   5 | \n",
       "|  3  |  14 | \n",
       "|  4  |  30 | \n",
       "|  5  |  55 | \n",
       "|  6  |  91 | \n",
       "|  7  | 140 | \n",
       "|  8  | 204 | \n",
       "|  9  | 285 | \n",
       "| 10  | 385 | \n",
       "\n",
       "\n"
      ],
      "text/plain": [
       "   x  y  \n",
       "1   1   1\n",
       "2   2   5\n",
       "3   3  14\n",
       "4   4  30\n",
       "5   5  55\n",
       "6   6  91\n",
       "7   7 140\n",
       "8   8 204\n",
       "9   9 285\n",
       "10 10 385"
      ]
     },
     "metadata": {},
     "output_type": "display_data"
    }
   ],
   "source": [
    "x <- 1:10\n",
    "squares_data <- data.frame(x = x, y = sum_of_squares(x))\n",
    "squares_data"
   ]
  },
  {
   "cell_type": "code",
   "execution_count": null,
   "metadata": {
    "collapsed": true
   },
   "outputs": [],
   "source": []
  }
 ],
 "metadata": {
  "kernelspec": {
   "display_name": "R",
   "language": "R",
   "name": "ir"
  },
  "language_info": {
   "codemirror_mode": "r",
   "file_extension": ".r",
   "mimetype": "text/x-r-source",
   "name": "R",
   "pygments_lexer": "r",
   "version": "3.4.2"
  }
 },
 "nbformat": 4,
 "nbformat_minor": 2
}
