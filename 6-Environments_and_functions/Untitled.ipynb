{
 "cells": [
  {
   "cell_type": "code",
   "execution_count": 5,
   "metadata": {},
   "outputs": [
    {
     "data": {
      "text/html": [
       "'pairlist'"
      ],
      "text/latex": [
       "'pairlist'"
      ],
      "text/markdown": [
       "'pairlist'"
      ],
      "text/plain": [
       "[1] \"pairlist\""
      ]
     },
     "metadata": {},
     "output_type": "display_data"
    }
   ],
   "source": [
    "hypotenuse <- function(x = 5, y = 12) {\n",
    "    sqrt(x ^ 2 + y ^ 2)\n",
    "}\n",
    "class(formals(hypotenuse))"
   ]
  },
  {
   "cell_type": "code",
   "execution_count": 7,
   "metadata": {},
   "outputs": [
    {
     "data": {
      "text/html": [
       "4"
      ],
      "text/latex": [
       "4"
      ],
      "text/markdown": [
       "4"
      ],
      "text/plain": [
       "[1] 4"
      ]
     },
     "metadata": {},
     "output_type": "display_data"
    }
   ],
   "source": [
    "x <- 4\n",
    "f <- function() {\n",
    "    x <- 5\n",
    "}\n",
    "x"
   ]
  },
  {
   "cell_type": "code",
   "execution_count": 11,
   "metadata": {},
   "outputs": [],
   "source": [
    "# 6.1\n",
    "multiples_of_pi <- new.env()\n",
    "multiples_of_pi[['two_pi']] <- 2 * pi\n",
    "multiples_of_pi$three_pi <- 3 * pi\n",
    "assign('four_pi', 4 * pi, multiples_of_pi)"
   ]
  },
  {
   "cell_type": "code",
   "execution_count": 13,
   "metadata": {
    "scrolled": true
   },
   "outputs": [
    {
     "data": {
      "text/plain": [
       "four_pi :  num 12.6\n",
       "three_pi :  num 9.42\n",
       "two_pi :  num 6.28"
      ]
     },
     "metadata": {},
     "output_type": "display_data"
    }
   ],
   "source": [
    "ls.str(multiples_of_pi)"
   ]
  },
  {
   "cell_type": "code",
   "execution_count": 28,
   "metadata": {},
   "outputs": [
    {
     "data": {
      "text/html": [
       "<ol class=list-inline>\n",
       "\t<li>FALSE</li>\n",
       "\t<li>TRUE</li>\n",
       "\t<li>FALSE</li>\n",
       "\t<li>&lt;NA&gt;</li>\n",
       "\t<li>TRUE</li>\n",
       "\t<li>&lt;NA&gt;</li>\n",
       "\t<li>FALSE</li>\n",
       "\t<li>&lt;NA&gt;</li>\n",
       "\t<li>TRUE</li>\n",
       "\t<li>&lt;NA&gt;</li>\n",
       "</ol>\n"
      ],
      "text/latex": [
       "\\begin{enumerate*}\n",
       "\\item FALSE\n",
       "\\item TRUE\n",
       "\\item FALSE\n",
       "\\item <NA>\n",
       "\\item TRUE\n",
       "\\item <NA>\n",
       "\\item FALSE\n",
       "\\item <NA>\n",
       "\\item TRUE\n",
       "\\item <NA>\n",
       "\\end{enumerate*}\n"
      ],
      "text/markdown": [
       "1. FALSE\n",
       "2. TRUE\n",
       "3. FALSE\n",
       "4. &lt;NA&gt;\n",
       "5. TRUE\n",
       "6. &lt;NA&gt;\n",
       "7. FALSE\n",
       "8. &lt;NA&gt;\n",
       "9. TRUE\n",
       "10. &lt;NA&gt;\n",
       "\n",
       "\n"
      ],
      "text/plain": [
       " [1] FALSE  TRUE FALSE    NA  TRUE    NA FALSE    NA  TRUE    NA"
      ]
     },
     "metadata": {},
     "output_type": "display_data"
    }
   ],
   "source": [
    "# 6.2\n",
    "relabel <- function(v) {\n",
    "    v_new <- vector(length = length(v))\n",
    "    v_new[!is.finite(v)] <- NA\n",
    "    v_new[v %% 2 == 0] <- TRUE\n",
    "    v_new[v %% 2 != 0] <- FALSE\n",
    "    return(v_new)\n",
    "}\n",
    "\n",
    "relabel(c(1, 2, 3, Inf, 4, -Inf, 5, NA, 6, NaN))"
   ]
  },
  {
   "cell_type": "code",
   "execution_count": 30,
   "metadata": {},
   "outputs": [
    {
     "data": {
      "text/plain": [
       "$args\n",
       "$args$x\n",
       "\n",
       "\n",
       "$args$...\n",
       "\n",
       "\n",
       "\n",
       "$body\n",
       "UseMethod(\"mean\")\n"
      ]
     },
     "metadata": {},
     "output_type": "display_data"
    }
   ],
   "source": [
    "# 6.3\n",
    "args_and_body <- function(f) {\n",
    "    return(list(args = formals(f), body = body(f)))\n",
    "}\n",
    "\n",
    "args_and_body(mean)"
   ]
  },
  {
   "cell_type": "code",
   "execution_count": 32,
   "metadata": {},
   "outputs": [
    {
     "data": {
      "text/html": [
       "&lt;NA&gt;"
      ],
      "text/latex": [
       "<NA>"
      ],
      "text/markdown": [
       "&lt;NA&gt;"
      ],
      "text/plain": [
       "[1] NA"
      ]
     },
     "metadata": {},
     "output_type": "display_data"
    }
   ],
   "source": [
    "Inf %% 2 == 0"
   ]
  }
 ],
 "metadata": {
  "kernelspec": {
   "display_name": "R",
   "language": "R",
   "name": "ir"
  },
  "language_info": {
   "codemirror_mode": "r",
   "file_extension": ".r",
   "mimetype": "text/x-r-source",
   "name": "R",
   "pygments_lexer": "r",
   "version": "3.4.2"
  }
 },
 "nbformat": 4,
 "nbformat_minor": 2
}
