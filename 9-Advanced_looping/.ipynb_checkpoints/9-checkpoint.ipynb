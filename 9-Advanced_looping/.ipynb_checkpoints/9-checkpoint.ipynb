{
 "cells": [
  {
   "cell_type": "code",
   "execution_count": 8,
   "metadata": {},
   "outputs": [
    {
     "data": {
      "text/html": [
       "10"
      ],
      "text/latex": [
       "10"
      ],
      "text/markdown": [
       "10"
      ],
      "text/plain": [
       "[1] 10"
      ]
     },
     "metadata": {},
     "output_type": "display_data"
    }
   ],
   "source": [
    "v_list <- vector('list', 10)\n",
    "length(v_list)"
   ]
  },
  {
   "cell_type": "code",
   "execution_count": 23,
   "metadata": {},
   "outputs": [
    {
     "data": {
      "text/html": [
       "<ol>\n",
       "\t<li>1</li>\n",
       "\t<li><ol class=list-inline>\n",
       "\t<li>1</li>\n",
       "\t<li>2</li>\n",
       "</ol>\n",
       "</li>\n",
       "\t<li><ol class=list-inline>\n",
       "\t<li>1</li>\n",
       "\t<li>2</li>\n",
       "\t<li>3</li>\n",
       "\t<li>4</li>\n",
       "\t<li>5</li>\n",
       "</ol>\n",
       "</li>\n",
       "\t<li><ol class=list-inline>\n",
       "\t<li>1</li>\n",
       "\t<li>2</li>\n",
       "\t<li>3</li>\n",
       "\t<li>4</li>\n",
       "</ol>\n",
       "</li>\n",
       "</ol>\n"
      ],
      "text/latex": [
       "\\begin{enumerate}\n",
       "\\item 1\n",
       "\\item \\begin{enumerate*}\n",
       "\\item 1\n",
       "\\item 2\n",
       "\\end{enumerate*}\n",
       "\n",
       "\\item \\begin{enumerate*}\n",
       "\\item 1\n",
       "\\item 2\n",
       "\\item 3\n",
       "\\item 4\n",
       "\\item 5\n",
       "\\end{enumerate*}\n",
       "\n",
       "\\item \\begin{enumerate*}\n",
       "\\item 1\n",
       "\\item 2\n",
       "\\item 3\n",
       "\\item 4\n",
       "\\end{enumerate*}\n",
       "\n",
       "\\end{enumerate}\n"
      ],
      "text/markdown": [
       "1. 1\n",
       "2. 1. 1\n",
       "2. 2\n",
       "\n",
       "\n",
       "\n",
       "3. 1. 1\n",
       "2. 2\n",
       "3. 3\n",
       "4. 4\n",
       "5. 5\n",
       "\n",
       "\n",
       "\n",
       "4. 1. 1\n",
       "2. 2\n",
       "3. 3\n",
       "4. 4\n",
       "\n",
       "\n",
       "\n",
       "\n",
       "\n"
      ],
      "text/plain": [
       "[[1]]\n",
       "[1] 1\n",
       "\n",
       "[[2]]\n",
       "[1] 1 2\n",
       "\n",
       "[[3]]\n",
       "[1] 1 2 3 4 5\n",
       "\n",
       "[[4]]\n",
       "[1] 1 2 3 4\n"
      ]
     },
     "metadata": {},
     "output_type": "display_data"
    }
   ],
   "source": [
    "sapply(c(1, 2, 5, 4), seq_len)"
   ]
  },
  {
   "cell_type": "code",
   "execution_count": 19,
   "metadata": {},
   "outputs": [
    {
     "data": {
      "text/html": [
       "<ol class=list-inline>\n",
       "\t<li>1</li>\n",
       "\t<li>2</li>\n",
       "\t<li>3</li>\n",
       "\t<li>4</li>\n",
       "\t<li>5</li>\n",
       "\t<li>6</li>\n",
       "\t<li>7</li>\n",
       "\t<li>8</li>\n",
       "\t<li>9</li>\n",
       "\t<li>10</li>\n",
       "</ol>\n"
      ],
      "text/latex": [
       "\\begin{enumerate*}\n",
       "\\item 1\n",
       "\\item 2\n",
       "\\item 3\n",
       "\\item 4\n",
       "\\item 5\n",
       "\\item 6\n",
       "\\item 7\n",
       "\\item 8\n",
       "\\item 9\n",
       "\\item 10\n",
       "\\end{enumerate*}\n"
      ],
      "text/markdown": [
       "1. 1\n",
       "2. 2\n",
       "3. 3\n",
       "4. 4\n",
       "5. 5\n",
       "6. 6\n",
       "7. 7\n",
       "8. 8\n",
       "9. 9\n",
       "10. 10\n",
       "\n",
       "\n"
      ],
      "text/plain": [
       " [1]  1  2  3  4  5  6  7  8  9 10"
      ]
     },
     "metadata": {},
     "output_type": "display_data"
    }
   ],
   "source": [
    "seq_len(10)"
   ]
  },
  {
   "cell_type": "code",
   "execution_count": 28,
   "metadata": {},
   "outputs": [],
   "source": [
    "df <- data.frame('a' = c(1, 2, 3), 'b' = c(4, 5, 6))"
   ]
  },
  {
   "cell_type": "code",
   "execution_count": 40,
   "metadata": {},
   "outputs": [
    {
     "data": {
      "text/html": [
       "'character'"
      ],
      "text/latex": [
       "'character'"
      ],
      "text/markdown": [
       "'character'"
      ],
      "text/plain": [
       "[1] \"character\""
      ]
     },
     "metadata": {},
     "output_type": "display_data"
    }
   ],
   "source": [
    "class(names(df))"
   ]
  },
  {
   "cell_type": "code",
   "execution_count": 48,
   "metadata": {},
   "outputs": [
    {
     "data": {
      "text/html": [
       "<dl class=dl-horizontal>\n",
       "\t<dt>male</dt>\n",
       "\t\t<dd>'It\\'s a boy!'</dd>\n",
       "\t<dt>female</dt>\n",
       "\t\t<dd>'It\\'s a girl!'</dd>\n",
       "\t<dt>other</dt>\n",
       "\t\t<dd>'Um...'</dd>\n",
       "</dl>\n"
      ],
      "text/latex": [
       "\\begin{description*}\n",
       "\\item[male] 'It\\textbackslash{}'s a boy!'\n",
       "\\item[female] 'It\\textbackslash{}'s a girl!'\n",
       "\\item[other] 'Um...'\n",
       "\\end{description*}\n"
      ],
      "text/markdown": [
       "male\n",
       ":   'It\\'s a boy!'female\n",
       ":   'It\\'s a girl!'other\n",
       ":   'Um...'\n",
       "\n"
      ],
      "text/plain": [
       "          male         female          other \n",
       " \"It's a boy!\" \"It's a girl!\"        \"Um...\" "
      ]
     },
     "metadata": {},
     "output_type": "display_data"
    }
   ],
   "source": [
    "baby_gender_report <- function(gender) {\n",
    "    switch(\n",
    "    gender,\n",
    "    male = \"It's a boy!\",\n",
    "    female = \"It's a girl!\",\n",
    "    \"Um...\")\n",
    "}\n",
    "\n",
    "genders <- c('male', 'female', 'other')\n",
    "sapply(genders, baby_gender_report)"
   ]
  },
  {
   "cell_type": "code",
   "execution_count": 53,
   "metadata": {},
   "outputs": [
    {
     "data": {
      "text/html": [
       "<dl>\n",
       "\t<dt>$`0`</dt>\n",
       "\t\t<dd><ol class=list-inline>\n",
       "\t<li>2</li>\n",
       "\t<li>5</li>\n",
       "\t<li>1</li>\n",
       "</ol>\n",
       "</dd>\n",
       "\t<dt>$`1`</dt>\n",
       "\t\t<dd><ol class=list-inline>\n",
       "\t<li>4</li>\n",
       "\t<li>6</li>\n",
       "</ol>\n",
       "</dd>\n",
       "</dl>\n"
      ],
      "text/latex": [
       "\\begin{description}\n",
       "\\item[\\$`0`] \\begin{enumerate*}\n",
       "\\item 2\n",
       "\\item 5\n",
       "\\item 1\n",
       "\\end{enumerate*}\n",
       "\n",
       "\\item[\\$`1`] \\begin{enumerate*}\n",
       "\\item 4\n",
       "\\item 6\n",
       "\\end{enumerate*}\n",
       "\n",
       "\\end{description}\n"
      ],
      "text/markdown": [
       "$`0`\n",
       ":   1. 2\n",
       "2. 5\n",
       "3. 1\n",
       "\n",
       "\n",
       "\n",
       "$`1`\n",
       ":   1. 4\n",
       "2. 6\n",
       "\n",
       "\n",
       "\n",
       "\n",
       "\n"
      ],
      "text/plain": [
       "$`0`\n",
       "[1] 2 5 1\n",
       "\n",
       "$`1`\n",
       "[1] 4 6\n"
      ]
     },
     "metadata": {},
     "output_type": "display_data"
    }
   ],
   "source": [
    "split(c(4, 2, 5, 6, 1), c(1, 0, 0, 1, 0))"
   ]
  },
  {
   "cell_type": "code",
   "execution_count": 81,
   "metadata": {},
   "outputs": [
    {
     "data": {
      "text/html": [
       "<ol class=list-inline>\n",
       "\t<li>'apply'</li>\n",
       "\t<li>'dendrapply'</li>\n",
       "\t<li>'eapply'</li>\n",
       "\t<li>'kernapply'</li>\n",
       "\t<li>'lapply'</li>\n",
       "\t<li>'mapply'</li>\n",
       "\t<li>'rapply'</li>\n",
       "\t<li>'sapply'</li>\n",
       "\t<li>'tapply'</li>\n",
       "\t<li>'tryapply'</li>\n",
       "\t<li>'vapply'</li>\n",
       "</ol>\n"
      ],
      "text/latex": [
       "\\begin{enumerate*}\n",
       "\\item 'apply'\n",
       "\\item 'dendrapply'\n",
       "\\item 'eapply'\n",
       "\\item 'kernapply'\n",
       "\\item 'lapply'\n",
       "\\item 'mapply'\n",
       "\\item 'rapply'\n",
       "\\item 'sapply'\n",
       "\\item 'tapply'\n",
       "\\item 'tryapply'\n",
       "\\item 'vapply'\n",
       "\\end{enumerate*}\n"
      ],
      "text/markdown": [
       "1. 'apply'\n",
       "2. 'dendrapply'\n",
       "3. 'eapply'\n",
       "4. 'kernapply'\n",
       "5. 'lapply'\n",
       "6. 'mapply'\n",
       "7. 'rapply'\n",
       "8. 'sapply'\n",
       "9. 'tapply'\n",
       "10. 'tryapply'\n",
       "11. 'vapply'\n",
       "\n",
       "\n"
      ],
      "text/plain": [
       " [1] \"apply\"      \"dendrapply\" \"eapply\"     \"kernapply\"  \"lapply\"    \n",
       " [6] \"mapply\"     \"rapply\"     \"sapply\"     \"tapply\"     \"tryapply\"  \n",
       "[11] \"vapply\"    "
      ]
     },
     "metadata": {},
     "output_type": "display_data"
    }
   ],
   "source": [
    "apropos('apply')"
   ]
  },
  {
   "cell_type": "code",
   "execution_count": 82,
   "metadata": {},
   "outputs": [],
   "source": [
    "?eapply"
   ]
  },
  {
   "cell_type": "code",
   "execution_count": 83,
   "metadata": {},
   "outputs": [
    {
     "ename": "ERROR",
     "evalue": "Error in parse(text = x, srcfile = src): <text>:17:0: unexpected end of input\n15: \"Kyla\"\n16: ),\n   ^\n",
     "output_type": "error",
     "traceback": [
      "Error in parse(text = x, srcfile = src): <text>:17:0: unexpected end of input\n15: \"Kyla\"\n16: ),\n   ^\nTraceback:\n"
     ]
    }
   ],
   "source": [
    "# 9.1\n",
    "wayans <- list(\n",
    "\"Dwayne Kim\" = list(),\n",
    "\"Keenen Ivory\" = list(\n",
    "\"Jolie Ivory Imani\",\n",
    "\"Nala\",\n",
    "\"Keenen Ivory Jr\",\n",
    "\"Bella\",\n",
    "\"Daphne Ivory\"\n",
    "),\n",
    "Damon = list(\n",
    "\"Damon Jr\",\n",
    "\"Michael\",\n",
    "\"Cara Mia\",\n",
    "\"Kyla\"\n",
    "),"
   ]
  },
  {
   "cell_type": "code",
   "execution_count": 84,
   "metadata": {
    "collapsed": true
   },
   "outputs": [],
   "source": [
    "wayans <- list(\n",
    "\"Dwayne Kim\" = list(),\n",
    "\"Keenen Ivory\" = list(\n",
    "\"Jolie Ivory Imani\",\n",
    "\"Nala\",\n",
    "\"Keenen Ivory Jr\",\n",
    "\"Bella\",\n",
    "\"Daphne Ivory\"\n",
    "),\n",
    "Damon = list(\n",
    "\"Damon Jr\",\n",
    "\"Michael\",\n",
    "\"Cara Mia\",\n",
    "\"Kyla\"\n",
    "),\n",
    "Kim = list(),\n",
    "Shawn = list(\n",
    "\"Laila\",\n",
    "\"Illia\",\n",
    "\"Marlon\"\n",
    "),\n",
    "Marlon = list(\n",
    "\"Shawn Howell\",\n",
    "\"Arnai Zachary\"\n",
    "),\n",
    "Nadia = list(),\n",
    "Elvira = list(\n",
    "\"Damien\",\n",
    "\"Chaunté\"\n",
    "),\n",
    "Diedre = list(\n",
    "\"Craig\",\n",
    "\"Gregg\",\n",
    "\"Summer\",\n",
    "\"Justin\",\n",
    "\"Jamel\"\n",
    "),\n",
    "Vonnie = list()\n",
    ")"
   ]
  },
  {
   "cell_type": "code",
   "execution_count": 127,
   "metadata": {
    "scrolled": true
   },
   "outputs": [
    {
     "data": {
      "text/html": [
       "<dl>\n",
       "\t<dt>$`Dwayne Kim`</dt>\n",
       "\t\t<dd>0</dd>\n",
       "\t<dt>$`Keenen Ivory`</dt>\n",
       "\t\t<dd>5</dd>\n",
       "\t<dt>$Damon</dt>\n",
       "\t\t<dd>4</dd>\n",
       "\t<dt>$Kim</dt>\n",
       "\t\t<dd>0</dd>\n",
       "\t<dt>$Shawn</dt>\n",
       "\t\t<dd>3</dd>\n",
       "\t<dt>$Marlon</dt>\n",
       "\t\t<dd>2</dd>\n",
       "\t<dt>$Nadia</dt>\n",
       "\t\t<dd>0</dd>\n",
       "\t<dt>$Elvira</dt>\n",
       "\t\t<dd>2</dd>\n",
       "\t<dt>$Diedre</dt>\n",
       "\t\t<dd>5</dd>\n",
       "\t<dt>$Vonnie</dt>\n",
       "\t\t<dd>0</dd>\n",
       "</dl>\n"
      ],
      "text/latex": [
       "\\begin{description}\n",
       "\\item[\\$`Dwayne Kim`] 0\n",
       "\\item[\\$`Keenen Ivory`] 5\n",
       "\\item[\\$Damon] 4\n",
       "\\item[\\$Kim] 0\n",
       "\\item[\\$Shawn] 3\n",
       "\\item[\\$Marlon] 2\n",
       "\\item[\\$Nadia] 0\n",
       "\\item[\\$Elvira] 2\n",
       "\\item[\\$Diedre] 5\n",
       "\\item[\\$Vonnie] 0\n",
       "\\end{description}\n"
      ],
      "text/markdown": [
       "$`Dwayne Kim`\n",
       ":   0\n",
       "$`Keenen Ivory`\n",
       ":   5\n",
       "$Damon\n",
       ":   4\n",
       "$Kim\n",
       ":   0\n",
       "$Shawn\n",
       ":   3\n",
       "$Marlon\n",
       ":   2\n",
       "$Nadia\n",
       ":   0\n",
       "$Elvira\n",
       ":   2\n",
       "$Diedre\n",
       ":   5\n",
       "$Vonnie\n",
       ":   0\n",
       "\n",
       "\n"
      ],
      "text/plain": [
       "$`Dwayne Kim`\n",
       "[1] 0\n",
       "\n",
       "$`Keenen Ivory`\n",
       "[1] 5\n",
       "\n",
       "$Damon\n",
       "[1] 4\n",
       "\n",
       "$Kim\n",
       "[1] 0\n",
       "\n",
       "$Shawn\n",
       "[1] 3\n",
       "\n",
       "$Marlon\n",
       "[1] 2\n",
       "\n",
       "$Nadia\n",
       "[1] 0\n",
       "\n",
       "$Elvira\n",
       "[1] 2\n",
       "\n",
       "$Diedre\n",
       "[1] 5\n",
       "\n",
       "$Vonnie\n",
       "[1] 0\n"
      ]
     },
     "metadata": {},
     "output_type": "display_data"
    }
   ],
   "source": [
    "lapply(wayans, length)"
   ]
  },
  {
   "cell_type": "code",
   "execution_count": 155,
   "metadata": {},
   "outputs": [
    {
     "data": {
      "text/html": [
       "<dl class=dl-horizontal>\n",
       "\t<dt>Dwayne Kim</dt>\n",
       "\t\t<dd>0</dd>\n",
       "\t<dt>Keenen Ivory</dt>\n",
       "\t\t<dd>5</dd>\n",
       "\t<dt>Damon</dt>\n",
       "\t\t<dd>4</dd>\n",
       "\t<dt>Kim</dt>\n",
       "\t\t<dd>0</dd>\n",
       "\t<dt>Shawn</dt>\n",
       "\t\t<dd>3</dd>\n",
       "\t<dt>Marlon</dt>\n",
       "\t\t<dd>2</dd>\n",
       "\t<dt>Nadia</dt>\n",
       "\t\t<dd>0</dd>\n",
       "\t<dt>Elvira</dt>\n",
       "\t\t<dd>2</dd>\n",
       "\t<dt>Diedre</dt>\n",
       "\t\t<dd>5</dd>\n",
       "\t<dt>Vonnie</dt>\n",
       "\t\t<dd>0</dd>\n",
       "</dl>\n"
      ],
      "text/latex": [
       "\\begin{description*}\n",
       "\\item[Dwayne Kim] 0\n",
       "\\item[Keenen Ivory] 5\n",
       "\\item[Damon] 4\n",
       "\\item[Kim] 0\n",
       "\\item[Shawn] 3\n",
       "\\item[Marlon] 2\n",
       "\\item[Nadia] 0\n",
       "\\item[Elvira] 2\n",
       "\\item[Diedre] 5\n",
       "\\item[Vonnie] 0\n",
       "\\end{description*}\n"
      ],
      "text/markdown": [
       "Dwayne Kim\n",
       ":   0Keenen Ivory\n",
       ":   5Damon\n",
       ":   4Kim\n",
       ":   0Shawn\n",
       ":   3Marlon\n",
       ":   2Nadia\n",
       ":   0Elvira\n",
       ":   2Diedre\n",
       ":   5Vonnie\n",
       ":   0\n",
       "\n"
      ],
      "text/plain": [
       "  Dwayne Kim Keenen Ivory        Damon          Kim        Shawn       Marlon \n",
       "           0            5            4            0            3            2 \n",
       "       Nadia       Elvira       Diedre       Vonnie \n",
       "           0            2            5            0 "
      ]
     },
     "metadata": {},
     "output_type": "display_data"
    }
   ],
   "source": [
    "vapply(wayans, length, integer(1))"
   ]
  },
  {
   "cell_type": "code",
   "execution_count": 116,
   "metadata": {},
   "outputs": [
    {
     "data": {
      "text/html": [
       "<dl class=dl-horizontal>\n",
       "\t<dt>Population</dt>\n",
       "\t\t<dd>4246.42</dd>\n",
       "\t<dt>Income</dt>\n",
       "\t\t<dd>4435.8</dd>\n",
       "\t<dt>Illiteracy</dt>\n",
       "\t\t<dd>1.17</dd>\n",
       "\t<dt>Life Exp</dt>\n",
       "\t\t<dd>70.8786</dd>\n",
       "\t<dt>Murder</dt>\n",
       "\t\t<dd>7.378</dd>\n",
       "\t<dt>HS Grad</dt>\n",
       "\t\t<dd>53.108</dd>\n",
       "\t<dt>Frost</dt>\n",
       "\t\t<dd>104.46</dd>\n",
       "\t<dt>Area</dt>\n",
       "\t\t<dd>70735.88</dd>\n",
       "</dl>\n"
      ],
      "text/latex": [
       "\\begin{description*}\n",
       "\\item[Population] 4246.42\n",
       "\\item[Income] 4435.8\n",
       "\\item[Illiteracy] 1.17\n",
       "\\item[Life Exp] 70.8786\n",
       "\\item[Murder] 7.378\n",
       "\\item[HS Grad] 53.108\n",
       "\\item[Frost] 104.46\n",
       "\\item[Area] 70735.88\n",
       "\\end{description*}\n"
      ],
      "text/markdown": [
       "Population\n",
       ":   4246.42Income\n",
       ":   4435.8Illiteracy\n",
       ":   1.17Life Exp\n",
       ":   70.8786Murder\n",
       ":   7.378HS Grad\n",
       ":   53.108Frost\n",
       ":   104.46Area\n",
       ":   70735.88\n",
       "\n"
      ],
      "text/plain": [
       "Population     Income Illiteracy   Life Exp     Murder    HS Grad      Frost \n",
       " 4246.4200  4435.8000     1.1700    70.8786     7.3780    53.1080   104.4600 \n",
       "      Area \n",
       "70735.8800 "
      ]
     },
     "metadata": {},
     "output_type": "display_data"
    }
   ],
   "source": [
    "# 9.2\n",
    "apply(state.x77, 2, mean)"
   ]
  },
  {
   "cell_type": "code",
   "execution_count": 162,
   "metadata": {},
   "outputs": [
    {
     "name": "stdout",
     "output_type": "stream",
     "text": [
      " num [1:50, 1:8] 3615 365 2212 2110 21198 ...\n",
      " - attr(*, \"dimnames\")=List of 2\n",
      "  ..$ : chr [1:50] \"Alabama\" \"Alaska\" \"Arizona\" \"Arkansas\" ...\n",
      "  ..$ : chr [1:8] \"Population\" \"Income\" \"Illiteracy\" \"Life Exp\" ...\n"
     ]
    }
   ],
   "source": [
    "str(state.x77)"
   ]
  },
  {
   "cell_type": "code",
   "execution_count": 118,
   "metadata": {},
   "outputs": [
    {
     "data": {
      "text/html": [
       "<dl class=dl-horizontal>\n",
       "\t<dt>Population</dt>\n",
       "\t\t<dd>4464.49143338584</dd>\n",
       "\t<dt>Income</dt>\n",
       "\t\t<dd>614.469939152803</dd>\n",
       "\t<dt>Illiteracy</dt>\n",
       "\t\t<dd>0.609533110048091</dd>\n",
       "\t<dt>Life Exp</dt>\n",
       "\t\t<dd>1.34239355219682</dd>\n",
       "\t<dt>Murder</dt>\n",
       "\t\t<dd>3.69153969315277</dd>\n",
       "\t<dt>HS Grad</dt>\n",
       "\t\t<dd>8.07699782577357</dd>\n",
       "\t<dt>Frost</dt>\n",
       "\t\t<dd>51.9808481214819</dd>\n",
       "\t<dt>Area</dt>\n",
       "\t\t<dd>85327.2996223509</dd>\n",
       "</dl>\n"
      ],
      "text/latex": [
       "\\begin{description*}\n",
       "\\item[Population] 4464.49143338584\n",
       "\\item[Income] 614.469939152803\n",
       "\\item[Illiteracy] 0.609533110048091\n",
       "\\item[Life Exp] 1.34239355219682\n",
       "\\item[Murder] 3.69153969315277\n",
       "\\item[HS Grad] 8.07699782577357\n",
       "\\item[Frost] 51.9808481214819\n",
       "\\item[Area] 85327.2996223509\n",
       "\\end{description*}\n"
      ],
      "text/markdown": [
       "Population\n",
       ":   4464.49143338584Income\n",
       ":   614.469939152803Illiteracy\n",
       ":   0.609533110048091Life Exp\n",
       ":   1.34239355219682Murder\n",
       ":   3.69153969315277HS Grad\n",
       ":   8.07699782577357Frost\n",
       ":   51.9808481214819Area\n",
       ":   85327.2996223509\n",
       "\n"
      ],
      "text/plain": [
       "  Population       Income   Illiteracy     Life Exp       Murder      HS Grad \n",
       "4.464491e+03 6.144699e+02 6.095331e-01 1.342394e+00 3.691540e+00 8.076998e+00 \n",
       "       Frost         Area \n",
       "5.198085e+01 8.532730e+04 "
      ]
     },
     "metadata": {},
     "output_type": "display_data"
    }
   ],
   "source": [
    "apply(state.x77, 2, sd)"
   ]
  },
  {
   "cell_type": "code",
   "execution_count": 128,
   "metadata": {
    "collapsed": true
   },
   "outputs": [],
   "source": [
    "# 9.3\n",
    "time_for_commute <- function()\n",
    "{\n",
    "#Choose a mode of transport for the day\n",
    "mode_of_transport <- sample(\n",
    "c(\"car\", \"bus\", \"train\", \"bike\"),\n",
    "size = 1,\n",
    "prob = c(0.1, 0.2, 0.3, 0.4)\n",
    ")\n",
    "#Find the time to travel, depending upon mode of transport\n",
    "time <- switch(\n",
    "mode_of_transport,\n",
    "car = rlnorm(1, log(30), 0.5),\n",
    "bus = rlnorm(1, log(40), 0.5),\n",
    "train = rnorm(1, 30, 10),\n",
    "bike = rnorm(1, 60, 5)\n",
    ")\n",
    "names(time) <- mode_of_transport\n",
    "time\n",
    "}"
   ]
  },
  {
   "cell_type": "code",
   "execution_count": 129,
   "metadata": {
    "collapsed": true
   },
   "outputs": [],
   "source": [
    "commute_times <- replicate(1000, time_for_commute())\n",
    "commute_data <- data.frame(\n",
    "time = commute_times,\n",
    "mode = names(commute_times)\n",
    ")"
   ]
  },
  {
   "cell_type": "code",
   "execution_count": 146,
   "metadata": {},
   "outputs": [
    {
     "data": {
      "text/html": [
       "<dl class=dl-horizontal>\n",
       "\t<dt>bike</dt>\n",
       "\t\t<dd>63.4709849414848</dd>\n",
       "\t<dt>bus</dt>\n",
       "\t\t<dd>57.0857340879506</dd>\n",
       "\t<dt>car</dt>\n",
       "\t\t<dd>45.6616645940557</dd>\n",
       "\t<dt>train</dt>\n",
       "\t\t<dd>36.6521483690318</dd>\n",
       "</dl>\n"
      ],
      "text/plain": [
       "    bike      bus      car    train \n",
       "63.47098 57.08573 45.66166 36.65215 "
      ]
     },
     "metadata": {},
     "output_type": "display_data"
    }
   ],
   "source": [
    "with(commute_data, tapply(time, mode, quantile, 0.75))"
   ]
  },
  {
   "cell_type": "code",
   "execution_count": 139,
   "metadata": {},
   "outputs": [
    {
     "data": {
      "text/html": [
       "<dl class=dl-horizontal>\n",
       "\t<dt>bike</dt>\n",
       "\t\t<dd>63.4709849414848</dd>\n",
       "\t<dt>bus</dt>\n",
       "\t\t<dd>57.0857340879506</dd>\n",
       "\t<dt>car</dt>\n",
       "\t\t<dd>45.6616645940557</dd>\n",
       "\t<dt>train</dt>\n",
       "\t\t<dd>36.6521483690318</dd>\n",
       "</dl>\n"
      ],
      "text/plain": [
       "    bike      bus      car    train \n",
       "63.47098 57.08573 45.66166 36.65215 "
      ]
     },
     "metadata": {},
     "output_type": "display_data"
    }
   ],
   "source": [
    "tapply(commute_data$time, commute_data$mode, quantile, 0.75)"
   ]
  }
 ],
 "metadata": {
  "kernelspec": {
   "display_name": "R",
   "language": "R",
   "name": "ir"
  },
  "language_info": {
   "codemirror_mode": "r",
   "file_extension": ".r",
   "mimetype": "text/x-r-source",
   "name": "R",
   "pygments_lexer": "r",
   "version": "3.4.2"
  }
 },
 "nbformat": 4,
 "nbformat_minor": 2
}
