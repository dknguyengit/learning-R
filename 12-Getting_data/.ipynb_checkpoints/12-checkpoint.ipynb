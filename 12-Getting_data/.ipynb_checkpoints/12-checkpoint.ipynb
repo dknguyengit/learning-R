{
 "cells": [
  {
   "cell_type": "code",
   "execution_count": 33,
   "metadata": {
    "collapsed": true
   },
   "outputs": [],
   "source": [
    "jupyter_Rlib_path <- 'C:\\\\Users\\\\nguye\\\\Anaconda3\\\\R\\\\library'\n",
    "vn_mirror <- 'https://mirror.vinahost.vn/CRAN/'"
   ]
  },
  {
   "cell_type": "code",
   "execution_count": 37,
   "metadata": {
    "collapsed": true
   },
   "outputs": [],
   "source": [
    "jupyter_package_install <- function(packages) {\n",
    "    install.packages(packages, jupyter_Rlib_path, repos = vn_mirror,\n",
    "                    dependencies = TRUE)\n",
    "}"
   ]
  },
  {
   "cell_type": "code",
   "execution_count": 38,
   "metadata": {},
   "outputs": [
    {
     "name": "stdout",
     "output_type": "stream",
     "text": [
      "package 'WDI' successfully unpacked and MD5 sums checked\n",
      "\n",
      "The downloaded binary packages are in\n",
      "\tC:\\Users\\nguye\\AppData\\Local\\Temp\\RtmpgXexkD\\downloaded_packages\n"
     ]
    }
   ],
   "source": [
    "jupyter_package_install('WDI')"
   ]
  },
  {
   "cell_type": "code",
   "execution_count": 39,
   "metadata": {},
   "outputs": [
    {
     "name": "stderr",
     "output_type": "stream",
     "text": [
      "Loading required package: RJSONIO\n"
     ]
    }
   ],
   "source": [
    "library(WDI)"
   ]
  },
  {
   "cell_type": "code",
   "execution_count": 41,
   "metadata": {
    "collapsed": true
   },
   "outputs": [],
   "source": [
    "wdi_datasets <- WDIsearch()"
   ]
  },
  {
   "cell_type": "code",
   "execution_count": 48,
   "metadata": {},
   "outputs": [],
   "source": [
    "wdi_trade_in_services <- WDI('all', 'BG.GSR.NFSV.GD.ZS')"
   ]
  },
  {
   "cell_type": "code",
   "execution_count": 54,
   "metadata": {},
   "outputs": [
    {
     "data": {
      "text/html": [
       "<table>\n",
       "<thead><tr><th></th><th scope=col>iso2c</th><th scope=col>country</th><th scope=col>BG.GSR.NFSV.GD.ZS</th><th scope=col>year</th></tr></thead>\n",
       "<tbody>\n",
       "\t<tr><th scope=row>1807</th><td>VN      </td><td>Vietnam </td><td>15.30034</td><td>2011    </td></tr>\n",
       "\t<tr><th scope=row>1808</th><td>VN      </td><td>Vietnam </td><td>14.99244</td><td>2010    </td></tr>\n",
       "\t<tr><th scope=row>1809</th><td>VN      </td><td>Vietnam </td><td>13.16139</td><td>2009    </td></tr>\n",
       "\t<tr><th scope=row>1810</th><td>VN      </td><td>Vietnam </td><td>15.09327</td><td>2008    </td></tr>\n",
       "\t<tr><th scope=row>1811</th><td>VN      </td><td>Vietnam </td><td>16.55376</td><td>2007    </td></tr>\n",
       "\t<tr><th scope=row>1812</th><td>VN      </td><td>Vietnam </td><td>15.38033</td><td>2006    </td></tr>\n",
       "\t<tr><th scope=row>1813</th><td>VN      </td><td>Vietnam </td><td>15.00523</td><td>2005    </td></tr>\n",
       "</tbody>\n",
       "</table>\n"
      ],
      "text/latex": [
       "\\begin{tabular}{r|llll}\n",
       "  & iso2c & country & BG.GSR.NFSV.GD.ZS & year\\\\\n",
       "\\hline\n",
       "\t1807 & VN       & Vietnam  & 15.30034 & 2011    \\\\\n",
       "\t1808 & VN       & Vietnam  & 14.99244 & 2010    \\\\\n",
       "\t1809 & VN       & Vietnam  & 13.16139 & 2009    \\\\\n",
       "\t1810 & VN       & Vietnam  & 15.09327 & 2008    \\\\\n",
       "\t1811 & VN       & Vietnam  & 16.55376 & 2007    \\\\\n",
       "\t1812 & VN       & Vietnam  & 15.38033 & 2006    \\\\\n",
       "\t1813 & VN       & Vietnam  & 15.00523 & 2005    \\\\\n",
       "\\end{tabular}\n"
      ],
      "text/markdown": [
       "\n",
       "| <!--/--> | iso2c | country | BG.GSR.NFSV.GD.ZS | year | \n",
       "|---|---|---|---|---|---|---|\n",
       "| 1807 | VN       | Vietnam  | 15.30034 | 2011     | \n",
       "| 1808 | VN       | Vietnam  | 14.99244 | 2010     | \n",
       "| 1809 | VN       | Vietnam  | 13.16139 | 2009     | \n",
       "| 1810 | VN       | Vietnam  | 15.09327 | 2008     | \n",
       "| 1811 | VN       | Vietnam  | 16.55376 | 2007     | \n",
       "| 1812 | VN       | Vietnam  | 15.38033 | 2006     | \n",
       "| 1813 | VN       | Vietnam  | 15.00523 | 2005     | \n",
       "\n",
       "\n"
      ],
      "text/plain": [
       "     iso2c country BG.GSR.NFSV.GD.ZS year\n",
       "1807 VN    Vietnam 15.30034          2011\n",
       "1808 VN    Vietnam 14.99244          2010\n",
       "1809 VN    Vietnam 13.16139          2009\n",
       "1810 VN    Vietnam 15.09327          2008\n",
       "1811 VN    Vietnam 16.55376          2007\n",
       "1812 VN    Vietnam 15.38033          2006\n",
       "1813 VN    Vietnam 15.00523          2005"
      ]
     },
     "metadata": {},
     "output_type": "display_data"
    }
   ],
   "source": [
    "wdi_trade_in_services[wdi_trade_in_services$country == 'Vietnam', ]"
   ]
  },
  {
   "cell_type": "code",
   "execution_count": 56,
   "metadata": {},
   "outputs": [
    {
     "name": "stderr",
     "output_type": "stream",
     "text": [
      "also installing the dependencies 'bit', 'bit64', 'blob', 'memoise', 'RMySQL', 'RSQLite', 'timeSeries', 'XML', 'downloader'\n",
      "\n"
     ]
    },
    {
     "name": "stdout",
     "output_type": "stream",
     "text": [
      "package 'bit' successfully unpacked and MD5 sums checked\n",
      "package 'bit64' successfully unpacked and MD5 sums checked\n",
      "package 'blob' successfully unpacked and MD5 sums checked\n",
      "package 'memoise' successfully unpacked and MD5 sums checked\n",
      "package 'RMySQL' successfully unpacked and MD5 sums checked\n",
      "package 'RSQLite' successfully unpacked and MD5 sums checked\n",
      "package 'timeSeries' successfully unpacked and MD5 sums checked\n",
      "package 'XML' successfully unpacked and MD5 sums checked\n",
      "package 'downloader' successfully unpacked and MD5 sums checked\n",
      "package 'quantmod' successfully unpacked and MD5 sums checked\n",
      "\n",
      "The downloaded binary packages are in\n",
      "\tC:\\Users\\nguye\\AppData\\Local\\Temp\\RtmpgXexkD\\downloaded_packages\n"
     ]
    }
   ],
   "source": [
    "jupyter_package_install('quantmod')"
   ]
  },
  {
   "cell_type": "code",
   "execution_count": 10,
   "metadata": {},
   "outputs": [
    {
     "name": "stderr",
     "output_type": "stream",
     "text": [
      "Warning message:\n",
      "\"package 'learningr' was built under R version 3.4.3\""
     ]
    }
   ],
   "source": [
    "library(learningr)\n",
    "deer_file <- system.file(\n",
    "'extdata', 'RedDeerEndocranialVolume.dlm', package='learningr')"
   ]
  },
  {
   "cell_type": "code",
   "execution_count": 15,
   "metadata": {},
   "outputs": [],
   "source": [
    "deer_data <- read.table(deer_file, header = TRUE, fill = TRUE)"
   ]
  },
  {
   "cell_type": "code",
   "execution_count": 26,
   "metadata": {},
   "outputs": [],
   "source": [
    "crab_file <- system.file('extdata', 'crabtag.csv', package = 'learningr')"
   ]
  },
  {
   "cell_type": "code",
   "execution_count": 40,
   "metadata": {
    "scrolled": false
   },
   "outputs": [
    {
     "name": "stderr",
     "output_type": "stream",
     "text": [
      "Warning message:\n",
      "\"package 'RJSONIO' is in use and will not be installed\""
     ]
    },
    {
     "name": "stdout",
     "output_type": "stream",
     "text": [
      "package 'rjson' successfully unpacked and MD5 sums checked\n",
      "\n",
      "The downloaded binary packages are in\n",
      "\tC:\\Users\\nguye\\AppData\\Local\\Temp\\RtmpgXexkD\\downloaded_packages\n"
     ]
    }
   ],
   "source": [
    "jupyter_package_install(c('RJSONIO', 'rjson'))"
   ]
  },
  {
   "cell_type": "code",
   "execution_count": 58,
   "metadata": {},
   "outputs": [
    {
     "data": {
      "text/html": [
       "<table>\n",
       "<thead><tr><th scope=col>Year</th><th scope=col>Series</th><th scope=col>Character</th><th scope=col>Gender</th><th scope=col>Father</th><th scope=col>Mother</th><th scope=col>Eyes</th><th scope=col>Hair</th><th scope=col>Notes</th></tr></thead>\n",
       "<tbody>\n",
       "\t<tr><td>1963                                                                                                                                                                                                           </td><td>Yuki no Taiyou                                                                                                                                                                                                 </td><td>Sanae                                                                                                                                                                                                          </td><td>F                                                                                                                                                                                                              </td><td>Japanese                                                                                                                                                                                                       </td><td>American                                                                                                                                                                                                       </td><td>                                                                                                                                                                                                               </td><td>                                                                                                                                                                                                               </td><td>                                                                                                                                                                                                               </td></tr>\n",
       "\t<tr><td>1964                                                                                                                                                                                                           </td><td>Cyborg 009                                                                                                                                                                                                     </td><td>Joe Shimamura                                                                                                                                                                                                  </td><td>M                                                                                                                                                                                                              </td><td>American                                                                                                                                                                                                       </td><td>Japanese                                                                                                                                                                                                       </td><td>brown                                                                                                                                                                                                          </td><td>brown                                                                                                                                                                                                          </td><td>TVTropes says half-Japanese (mother), half-American (father), and in the manga he was bullied because of that; I did not find any other online sources specifying the parents, and do not have the manga handy.</td></tr>\n",
       "\t<tr><td>1967                                                                                                                                                                                                           </td><td>Lupin III                                                                                                                                                                                                      </td><td>Lupin III                                                                                                                                                                                                      </td><td>M                                                                                                                                                                                                              </td><td>French?                                                                                                                                                                                                        </td><td>Japanese?                                                                                                                                                                                                      </td><td>black                                                                                                                                                                                                          </td><td>black                                                                                                                                                                                                          </td><td>Wikipedia discusses the ambiguity.                                                                                                                                                                             </td></tr>\n",
       "\t<tr><td>1967                                                                                                                                                                                                           </td><td>Nekome Kozou                                                                                                                                                                                                   </td><td>Cat-Eyed Boy                                                                                                                                                                                                   </td><td>M                                                                                                                                                                                                              </td><td>Japanese                                                                                                                                                                                                       </td><td>Fantasy                                                                                                                                                                                                        </td><td>brown                                                                                                                                                                                                          </td><td>                                                                                                                                                                                                               </td><td>                                                                                                                                                                                                               </td></tr>\n",
       "\t<tr><td>1972                                                                                                                                                                                                           </td><td>Gatchaman                                                                                                                                                                                                      </td><td>Jun the Swan                                                                                                                                                                                                   </td><td>F                                                                                                                                                                                                              </td><td>                                                                                                                                                                                                               </td><td>                                                                                                                                                                                                               </td><td>green                                                                                                                                                                                                          </td><td>green                                                                                                                                                                                                          </td><td>Information about Jun is very scarce; asked                                                                                                                                                                    </td></tr>\n",
       "\t<tr><td>1974                                                                                                                                                                                                           </td><td>Great Mazinger                                                                                                                                                                                                 </td><td>Jun Hono                                                                                                                                                                                                       </td><td>F                                                                                                                                                                                                              </td><td>American                                                                                                                                                                                                       </td><td>Japanese                                                                                                                                                                                                       </td><td>black                                                                                                                                                                                                          </td><td>black                                                                                                                                                                                                          </td><td>                                                                                                                                                                                                               </td></tr>\n",
       "</tbody>\n",
       "</table>\n"
      ],
      "text/latex": [
       "\\begin{tabular}{r|lllllllll}\n",
       " Year & Series & Character & Gender & Father & Mother & Eyes & Hair & Notes\\\\\n",
       "\\hline\n",
       "\t 1963                                                                                                                                                                                                            & Yuki no Taiyou                                                                                                                                                                                                  & Sanae                                                                                                                                                                                                           & F                                                                                                                                                                                                               & Japanese                                                                                                                                                                                                        & American                                                                                                                                                                                                        &                                                                                                                                                                                                                 &                                                                                                                                                                                                                 &                                                                                                                                                                                                                \\\\\n",
       "\t 1964                                                                                                                                                                                                            & Cyborg 009                                                                                                                                                                                                      & Joe Shimamura                                                                                                                                                                                                   & M                                                                                                                                                                                                               & American                                                                                                                                                                                                        & Japanese                                                                                                                                                                                                        & brown                                                                                                                                                                                                           & brown                                                                                                                                                                                                           & TVTropes says half-Japanese (mother), half-American (father), and in the manga he was bullied because of that; I did not find any other online sources specifying the parents, and do not have the manga handy.\\\\\n",
       "\t 1967                                                                                                                                                                                                            & Lupin III                                                                                                                                                                                                       & Lupin III                                                                                                                                                                                                       & M                                                                                                                                                                                                               & French?                                                                                                                                                                                                         & Japanese?                                                                                                                                                                                                       & black                                                                                                                                                                                                           & black                                                                                                                                                                                                           & Wikipedia discusses the ambiguity.                                                                                                                                                                             \\\\\n",
       "\t 1967                                                                                                                                                                                                            & Nekome Kozou                                                                                                                                                                                                    & Cat-Eyed Boy                                                                                                                                                                                                    & M                                                                                                                                                                                                               & Japanese                                                                                                                                                                                                        & Fantasy                                                                                                                                                                                                         & brown                                                                                                                                                                                                           &                                                                                                                                                                                                                 &                                                                                                                                                                                                                \\\\\n",
       "\t 1972                                                                                                                                                                                                            & Gatchaman                                                                                                                                                                                                       & Jun the Swan                                                                                                                                                                                                    & F                                                                                                                                                                                                               &                                                                                                                                                                                                                 &                                                                                                                                                                                                                 & green                                                                                                                                                                                                           & green                                                                                                                                                                                                           & Information about Jun is very scarce; asked                                                                                                                                                                    \\\\\n",
       "\t 1974                                                                                                                                                                                                            & Great Mazinger                                                                                                                                                                                                  & Jun Hono                                                                                                                                                                                                        & F                                                                                                                                                                                                               & American                                                                                                                                                                                                        & Japanese                                                                                                                                                                                                        & black                                                                                                                                                                                                           & black                                                                                                                                                                                                           &                                                                                                                                                                                                                \\\\\n",
       "\\end{tabular}\n"
      ],
      "text/markdown": [
       "\n",
       "Year | Series | Character | Gender | Father | Mother | Eyes | Hair | Notes | \n",
       "|---|---|---|---|---|---|\n",
       "| 1963                                                                                                                                                                                                            | Yuki no Taiyou                                                                                                                                                                                                  | Sanae                                                                                                                                                                                                           | F                                                                                                                                                                                                               | Japanese                                                                                                                                                                                                        | American                                                                                                                                                                                                        |                                                                                                                                                                                                                 |                                                                                                                                                                                                                 |                                                                                                                                                                                                                 | \n",
       "| 1964                                                                                                                                                                                                            | Cyborg 009                                                                                                                                                                                                      | Joe Shimamura                                                                                                                                                                                                   | M                                                                                                                                                                                                               | American                                                                                                                                                                                                        | Japanese                                                                                                                                                                                                        | brown                                                                                                                                                                                                           | brown                                                                                                                                                                                                           | TVTropes says half-Japanese (mother), half-American (father), and in the manga he was bullied because of that; I did not find any other online sources specifying the parents, and do not have the manga handy. | \n",
       "| 1967                                                                                                                                                                                                            | Lupin III                                                                                                                                                                                                       | Lupin III                                                                                                                                                                                                       | M                                                                                                                                                                                                               | French?                                                                                                                                                                                                         | Japanese?                                                                                                                                                                                                       | black                                                                                                                                                                                                           | black                                                                                                                                                                                                           | Wikipedia discusses the ambiguity.                                                                                                                                                                              | \n",
       "| 1967                                                                                                                                                                                                            | Nekome Kozou                                                                                                                                                                                                    | Cat-Eyed Boy                                                                                                                                                                                                    | M                                                                                                                                                                                                               | Japanese                                                                                                                                                                                                        | Fantasy                                                                                                                                                                                                         | brown                                                                                                                                                                                                           |                                                                                                                                                                                                                 |                                                                                                                                                                                                                 | \n",
       "| 1972                                                                                                                                                                                                            | Gatchaman                                                                                                                                                                                                       | Jun the Swan                                                                                                                                                                                                    | F                                                                                                                                                                                                               |                                                                                                                                                                                                                 |                                                                                                                                                                                                                 | green                                                                                                                                                                                                           | green                                                                                                                                                                                                           | Information about Jun is very scarce; asked                                                                                                                                                                     | \n",
       "| 1974                                                                                                                                                                                                            | Great Mazinger                                                                                                                                                                                                  | Jun Hono                                                                                                                                                                                                        | F                                                                                                                                                                                                               | American                                                                                                                                                                                                        | Japanese                                                                                                                                                                                                        | black                                                                                                                                                                                                           | black                                                                                                                                                                                                           |                                                                                                                                                                                                                 | \n",
       "\n",
       "\n"
      ],
      "text/plain": [
       "  Year Series         Character     Gender Father   Mother    Eyes  Hair \n",
       "1 1963 Yuki no Taiyou Sanae         F      Japanese American             \n",
       "2 1964 Cyborg 009     Joe Shimamura M      American Japanese  brown brown\n",
       "3 1967 Lupin III      Lupin III     M      French?  Japanese? black black\n",
       "4 1967 Nekome Kozou   Cat-Eyed Boy  M      Japanese Fantasy   brown      \n",
       "5 1972 Gatchaman      Jun the Swan  F                         green green\n",
       "6 1974 Great Mazinger Jun Hono      F      American Japanese  black black\n",
       "  Notes                                                                                                                                                                                                          \n",
       "1                                                                                                                                                                                                                \n",
       "2 TVTropes says half-Japanese (mother), half-American (father), and in the manga he was bullied because of that; I did not find any other online sources specifying the parents, and do not have the manga handy.\n",
       "3 Wikipedia discusses the ambiguity.                                                                                                                                                                             \n",
       "4                                                                                                                                                                                                                \n",
       "5 Information about Jun is very scarce; asked                                                                                                                                                                    \n",
       "6                                                                                                                                                                                                                "
      ]
     },
     "metadata": {},
     "output_type": "display_data"
    }
   ],
   "source": [
    "# 12.1\n",
    "file_name <- system.file('extdata', 'hafu.csv', package = 'learningr')\n",
    "hafu <- read.csv(file_name)\n",
    "head(hafu)"
   ]
  },
  {
   "cell_type": "code",
   "execution_count": 61,
   "metadata": {},
   "outputs": [
    {
     "ename": "ERROR",
     "evalue": "Error in read.xlsx2(file_name, sheetIndex = 1, startRow = 2, colIndex = 1:4): could not find function \"read.xlsx2\"\n",
     "output_type": "error",
     "traceback": [
      "Error in read.xlsx2(file_name, sheetIndex = 1, startRow = 2, colIndex = 1:4): could not find function \"read.xlsx2\"\nTraceback:\n"
     ]
    }
   ],
   "source": [
    "# 12.2\n",
    "file_name <- system.file('extdata', 'multi.drug.resistant.gonorrhoea.infection.xls', package = 'learningr')\n",
    "resistant <- read.xlsx2(file_name, sheetIndex = 1, startRow = 2, colIndex = 1:4)"
   ]
  },
  {
   "cell_type": "code",
   "execution_count": 60,
   "metadata": {
    "scrolled": true
   },
   "outputs": [
    {
     "name": "stderr",
     "output_type": "stream",
     "text": [
      "also installing the dependencies 'rJava', 'xlsxjars'\n",
      "\n"
     ]
    },
    {
     "name": "stdout",
     "output_type": "stream",
     "text": [
      "package 'rJava' successfully unpacked and MD5 sums checked\n",
      "package 'xlsxjars' successfully unpacked and MD5 sums checked\n",
      "package 'xlsx' successfully unpacked and MD5 sums checked\n",
      "\n",
      "The downloaded binary packages are in\n",
      "\tC:\\Users\\nguye\\AppData\\Local\\Temp\\RtmpgXexkD\\downloaded_packages\n"
     ]
    }
   ],
   "source": [
    "jupytzer_package_install('xlsx')"
   ]
  }
 ],
 "metadata": {
  "kernelspec": {
   "display_name": "R",
   "language": "R",
   "name": "ir"
  },
  "language_info": {
   "codemirror_mode": "r",
   "file_extension": ".r",
   "mimetype": "text/x-r-source",
   "name": "R",
   "pygments_lexer": "r",
   "version": "3.4.2"
  }
 },
 "nbformat": 4,
 "nbformat_minor": 2
}
