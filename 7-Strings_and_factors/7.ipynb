{
 "cells": [
  {
   "cell_type": "code",
   "execution_count": 10,
   "metadata": {},
   "outputs": [],
   "source": [
    "x <- (1:15) ^ 2\n",
    "y <- noquote(paste(x))"
   ]
  },
  {
   "cell_type": "code",
   "execution_count": 27,
   "metadata": {},
   "outputs": [
    {
     "name": "stdout",
     "output_type": "stream",
     "text": [
      "0123456789012345678901234567890123456789012345678901234567890123456789012345678901234567890123456789012345678901234567890123456789\n"
     ]
    }
   ],
   "source": [
    "cat('0123456789012345678901234567890123456789012345678901234567890123456789012345678901234567890123456789012345678901234567890123456789', fill = TRUE)"
   ]
  },
  {
   "cell_type": "code",
   "execution_count": 35,
   "metadata": {},
   "outputs": [
    {
     "data": {
      "text/html": [
       "<ol class=list-inline>\n",
       "\t<li>'a c'</li>\n",
       "\t<li>'b c'</li>\n",
       "</ol>\n"
      ],
      "text/latex": [
       "\\begin{enumerate*}\n",
       "\\item 'a c'\n",
       "\\item 'b c'\n",
       "\\end{enumerate*}\n"
      ],
      "text/markdown": [
       "1. 'a c'\n",
       "2. 'b c'\n",
       "\n",
       "\n"
      ],
      "text/plain": [
       "[1] \"a c\" \"b c\""
      ]
     },
     "metadata": {},
     "output_type": "display_data"
    }
   ],
   "source": [
    "paste(c('a', 'b'), 'c')"
   ]
  },
  {
   "cell_type": "code",
   "execution_count": 54,
   "metadata": {},
   "outputs": [
    {
     "data": {
      "text/html": [
       "<ol class=list-inline>\n",
       "\t<li>male</li>\n",
       "\t<li>female</li>\n",
       "\t<li>male</li>\n",
       "</ol>\n"
      ],
      "text/latex": [
       "\\begin{enumerate*}\n",
       "\\item male\n",
       "\\item female\n",
       "\\item male\n",
       "\\end{enumerate*}\n"
      ],
      "text/markdown": [
       "1. male\n",
       "2. female\n",
       "3. male\n",
       "\n",
       "\n"
      ],
      "text/plain": [
       "[1] male   female male  \n",
       "Levels: male female"
      ]
     },
     "metadata": {},
     "output_type": "display_data"
    }
   ],
   "source": [
    "genders <- c('male', 'female', 'male')\n",
    "gender_factors <- factor(genders, levels = c('male', 'female'))\n",
    "gender_factors"
   ]
  },
  {
   "cell_type": "code",
   "execution_count": 53,
   "metadata": {},
   "outputs": [
    {
     "data": {
      "text/html": [
       "<ol class=list-inline>\n",
       "\t<li>female</li>\n",
       "\t<li>male</li>\n",
       "\t<li>female</li>\n",
       "</ol>\n"
      ],
      "text/latex": [
       "\\begin{enumerate*}\n",
       "\\item female\n",
       "\\item male\n",
       "\\item female\n",
       "\\end{enumerate*}\n"
      ],
      "text/markdown": [
       "1. female\n",
       "2. male\n",
       "3. female\n",
       "\n",
       "\n"
      ],
      "text/plain": [
       "[1] female male   female\n",
       "Levels: female male"
      ]
     },
     "metadata": {},
     "output_type": "display_data"
    }
   ],
   "source": [
    "levels(gender_factors) <- c('female', 'male')\n",
    "# Dangerous, changed factor values, not just the levels!\n",
    "gender_factors"
   ]
  },
  {
   "cell_type": "code",
   "execution_count": 57,
   "metadata": {},
   "outputs": [
    {
     "data": {
      "text/html": [
       "<ol class=list-inline>\n",
       "\t<li>male</li>\n",
       "\t<li>female</li>\n",
       "\t<li>male</li>\n",
       "</ol>\n"
      ],
      "text/latex": [
       "\\begin{enumerate*}\n",
       "\\item male\n",
       "\\item female\n",
       "\\item male\n",
       "\\end{enumerate*}\n"
      ],
      "text/markdown": [
       "1. male\n",
       "2. female\n",
       "3. male\n",
       "\n",
       "\n"
      ],
      "text/plain": [
       "[1] male   female male  \n",
       "Levels: female male"
      ]
     },
     "metadata": {},
     "output_type": "display_data"
    }
   ],
   "source": [
    "factor(gender_factors, levels = c('female', 'male'))\n",
    "# OK, changed level names, not actual labels"
   ]
  },
  {
   "cell_type": "code",
   "execution_count": 69,
   "metadata": {},
   "outputs": [],
   "source": [
    "ages <- 16 + 50 * rbeta(10000, 2, 3)\n",
    "grouped_ages <- cut(ages, seq.int(16, 66, 10))\n",
    "age_table <- table(grouped_ages)"
   ]
  },
  {
   "cell_type": "code",
   "execution_count": 73,
   "metadata": {},
   "outputs": [
    {
     "data": {
      "text/html": [
       "<dl>\n",
       "\t<dt>$dim</dt>\n",
       "\t\t<dd>5</dd>\n",
       "\t<dt>$dimnames</dt>\n",
       "\t\t<dd><strong>$grouped_ages</strong> = <ol class=list-inline>\n",
       "\t<li>'(16,26]'</li>\n",
       "\t<li>'(26,36]'</li>\n",
       "\t<li>'(36,46]'</li>\n",
       "\t<li>'(46,56]'</li>\n",
       "\t<li>'(56,66]'</li>\n",
       "</ol>\n",
       "</dd>\n",
       "\t<dt>$class</dt>\n",
       "\t\t<dd>'table'</dd>\n",
       "</dl>\n"
      ],
      "text/latex": [
       "\\begin{description}\n",
       "\\item[\\$dim] 5\n",
       "\\item[\\$dimnames] \\textbf{\\$grouped\\_ages} = \\begin{enumerate*}\n",
       "\\item '(16,26{]}'\n",
       "\\item '(26,36{]}'\n",
       "\\item '(36,46{]}'\n",
       "\\item '(46,56{]}'\n",
       "\\item '(56,66{]}'\n",
       "\\end{enumerate*}\n",
       "\n",
       "\\item[\\$class] 'table'\n",
       "\\end{description}\n"
      ],
      "text/markdown": [
       "$dim\n",
       ":   5\n",
       "$dimnames\n",
       ":   **$grouped_ages** = 1. '(16,26]'\n",
       "2. '(26,36]'\n",
       "3. '(36,46]'\n",
       "4. '(46,56]'\n",
       "5. '(56,66]'\n",
       "\n",
       "\n",
       "\n",
       "$class\n",
       ":   'table'\n",
       "\n",
       "\n"
      ],
      "text/plain": [
       "$dim\n",
       "[1] 5\n",
       "\n",
       "$dimnames\n",
       "$dimnames$grouped_ages\n",
       "[1] \"(16,26]\" \"(26,36]\" \"(36,46]\" \"(46,56]\" \"(56,66]\"\n",
       "\n",
       "\n",
       "$class\n",
       "[1] \"table\"\n"
      ]
     },
     "metadata": {},
     "output_type": "display_data"
    }
   ],
   "source": [
    "attributes(age_table)"
   ]
  },
  {
   "cell_type": "code",
   "execution_count": 94,
   "metadata": {},
   "outputs": [],
   "source": [
    "dirty <- data.frame(x = c('1.23', '7..56', '4.89', '2. 34'))"
   ]
  },
  {
   "cell_type": "code",
   "execution_count": 103,
   "metadata": {},
   "outputs": [
    {
     "name": "stderr",
     "output_type": "stream",
     "text": [
      "Warning message in eval(expr, envir, enclos):\n",
      "\"NAs introduced by coercion\""
     ]
    },
    {
     "data": {
      "text/html": [
       "<ol class=list-inline>\n",
       "\t<li>1.23</li>\n",
       "\t<li>&lt;NA&gt;</li>\n",
       "\t<li>4.89</li>\n",
       "\t<li>&lt;NA&gt;</li>\n",
       "</ol>\n"
      ],
      "text/latex": [
       "\\begin{enumerate*}\n",
       "\\item 1.23\n",
       "\\item <NA>\n",
       "\\item 4.89\n",
       "\\item <NA>\n",
       "\\end{enumerate*}\n"
      ],
      "text/markdown": [
       "1. 1.23\n",
       "2. &lt;NA&gt;\n",
       "3. 4.89\n",
       "4. &lt;NA&gt;\n",
       "\n",
       "\n"
      ],
      "text/plain": [
       "[1] 1.23   NA 4.89   NA"
      ]
     },
     "metadata": {},
     "output_type": "display_data"
    }
   ],
   "source": [
    "numeric_levels <- as.numeric(levels((dirty$x)))\n",
    "numeric_levels[as.numeric(dirty$x)]"
   ]
  },
  {
   "cell_type": "code",
   "execution_count": 123,
   "metadata": {},
   "outputs": [
    {
     "data": {
      "text/html": [
       "<ol class=list-inline>\n",
       "\t<li>' 2.72'</li>\n",
       "\t<li>' 7.39'</li>\n",
       "\t<li>'20.09'</li>\n",
       "</ol>\n"
      ],
      "text/latex": [
       "\\begin{enumerate*}\n",
       "\\item ' 2.72'\n",
       "\\item ' 7.39'\n",
       "\\item '20.09'\n",
       "\\end{enumerate*}\n"
      ],
      "text/markdown": [
       "1. ' 2.72'\n",
       "2. ' 7.39'\n",
       "3. '20.09'\n",
       "\n",
       "\n"
      ],
      "text/plain": [
       "[1] \" 2.72\" \" 7.39\" \"20.09\""
      ]
     },
     "metadata": {},
     "output_type": "display_data"
    }
   ],
   "source": [
    "pow <- 1:3\n",
    "powers_of_e <- exp(pow)\n",
    "format(powers_of_e, digits = 3)"
   ]
  },
  {
   "cell_type": "code",
   "execution_count": 167,
   "metadata": {},
   "outputs": [
    {
     "data": {
      "text/html": [
       "'3.141592653589793'"
      ],
      "text/latex": [
       "'3.141592653589793'"
      ],
      "text/markdown": [
       "'3.141592653589793'"
      ],
      "text/plain": [
       "[1] \"3.141592653589793\""
      ]
     },
     "metadata": {},
     "output_type": "display_data"
    }
   ],
   "source": [
    "# 7.1\n",
    "formatC(pi, digits = 16)"
   ]
  },
  {
   "cell_type": "code",
   "execution_count": 124,
   "metadata": {
    "collapsed": true
   },
   "outputs": [],
   "source": [
    "# 7.2\n",
    "x <- c(\"Swan swam over the pond, Swim swan swim!\", \"Swan swam back again - Well swum swan!\")"
   ]
  },
  {
   "cell_type": "code",
   "execution_count": 136,
   "metadata": {},
   "outputs": [
    {
     "data": {
      "text/html": [
       "<ol>\n",
       "\t<li><ol class=list-inline>\n",
       "\t<li>'Swan'</li>\n",
       "\t<li>'swam'</li>\n",
       "\t<li>'over'</li>\n",
       "\t<li>'the'</li>\n",
       "\t<li>'pond'</li>\n",
       "\t<li>'Swim'</li>\n",
       "\t<li>'swan'</li>\n",
       "\t<li>'swim!'</li>\n",
       "</ol>\n",
       "</li>\n",
       "\t<li><ol class=list-inline>\n",
       "\t<li>'Swan'</li>\n",
       "\t<li>'swam'</li>\n",
       "\t<li>'back'</li>\n",
       "\t<li>'again'</li>\n",
       "\t<li>'Well'</li>\n",
       "\t<li>'swum'</li>\n",
       "\t<li>'swan!'</li>\n",
       "</ol>\n",
       "</li>\n",
       "</ol>\n"
      ],
      "text/latex": [
       "\\begin{enumerate}\n",
       "\\item \\begin{enumerate*}\n",
       "\\item 'Swan'\n",
       "\\item 'swam'\n",
       "\\item 'over'\n",
       "\\item 'the'\n",
       "\\item 'pond'\n",
       "\\item 'Swim'\n",
       "\\item 'swan'\n",
       "\\item 'swim!'\n",
       "\\end{enumerate*}\n",
       "\n",
       "\\item \\begin{enumerate*}\n",
       "\\item 'Swan'\n",
       "\\item 'swam'\n",
       "\\item 'back'\n",
       "\\item 'again'\n",
       "\\item 'Well'\n",
       "\\item 'swum'\n",
       "\\item 'swan!'\n",
       "\\end{enumerate*}\n",
       "\n",
       "\\end{enumerate}\n"
      ],
      "text/markdown": [
       "1. 1. 'Swan'\n",
       "2. 'swam'\n",
       "3. 'over'\n",
       "4. 'the'\n",
       "5. 'pond'\n",
       "6. 'Swim'\n",
       "7. 'swan'\n",
       "8. 'swim!'\n",
       "\n",
       "\n",
       "\n",
       "2. 1. 'Swan'\n",
       "2. 'swam'\n",
       "3. 'back'\n",
       "4. 'again'\n",
       "5. 'Well'\n",
       "6. 'swum'\n",
       "7. 'swan!'\n",
       "\n",
       "\n",
       "\n",
       "\n",
       "\n"
      ],
      "text/plain": [
       "[[1]]\n",
       "[1] \"Swan\"  \"swam\"  \"over\"  \"the\"   \"pond\"  \"Swim\"  \"swan\"  \"swim!\"\n",
       "\n",
       "[[2]]\n",
       "[1] \"Swan\"  \"swam\"  \"back\"  \"again\" \"Well\"  \"swum\"  \"swan!\"\n"
      ]
     },
     "metadata": {},
     "output_type": "display_data"
    }
   ],
   "source": [
    "strsplit(x, ',? (- )?')"
   ]
  },
  {
   "cell_type": "code",
   "execution_count": 146,
   "metadata": {},
   "outputs": [],
   "source": [
    "# 7.3\n",
    "three_d6 <- function(n)\n",
    "{\n",
    "    random_numbers <- matrix(\n",
    "        sample(6, 3 * n, replace = TRUE),\n",
    "        nrow = 3\n",
    "    )\n",
    "    colSums(random_numbers)\n",
    "}"
   ]
  },
  {
   "cell_type": "code",
   "execution_count": 173,
   "metadata": {},
   "outputs": [],
   "source": [
    "attributes <- three_d6(1000)"
   ]
  },
  {
   "cell_type": "code",
   "execution_count": 164,
   "metadata": {},
   "outputs": [
    {
     "data": {
      "text/html": [
       "<ol class=list-inline>\n",
       "\t<li>(5,8]</li>\n",
       "\t<li>(15,17]</li>\n",
       "\t<li>(8,12]</li>\n",
       "\t<li>(8,12]</li>\n",
       "\t<li>(8,12]</li>\n",
       "\t<li>(5,8]</li>\n",
       "\t<li>(8,12]</li>\n",
       "\t<li>(15,17]</li>\n",
       "\t<li>(8,12]</li>\n",
       "\t<li>(5,8]</li>\n",
       "</ol>\n"
      ],
      "text/latex": [
       "\\begin{enumerate*}\n",
       "\\item (5,8{]}\n",
       "\\item (15,17{]}\n",
       "\\item (8,12{]}\n",
       "\\item (8,12{]}\n",
       "\\item (8,12{]}\n",
       "\\item (5,8{]}\n",
       "\\item (8,12{]}\n",
       "\\item (15,17{]}\n",
       "\\item (8,12{]}\n",
       "\\item (5,8{]}\n",
       "\\end{enumerate*}\n"
      ],
      "text/markdown": [
       "1. (5,8]\n",
       "2. (15,17]\n",
       "3. (8,12]\n",
       "4. (8,12]\n",
       "5. (8,12]\n",
       "6. (5,8]\n",
       "7. (8,12]\n",
       "8. (15,17]\n",
       "9. (8,12]\n",
       "10. (5,8]\n",
       "\n",
       "\n"
      ],
      "text/plain": [
       " [1] (5,8]   (15,17] (8,12]  (8,12]  (8,12]  (5,8]   (8,12]  (15,17] (8,12] \n",
       "[10] (5,8]  \n",
       "Levels: (2,3] (3,5] (5,8] (8,12] (12,15] (15,17] (17,18]"
      ]
     },
     "metadata": {},
     "output_type": "display_data"
    }
   ],
   "source": [
    "attribute_intervals <- cut(attributes, c(2, 3, 5, 8, 12, 15, 17, 18))\n",
    "attribute_intervals"
   ]
  },
  {
   "cell_type": "code",
   "execution_count": 174,
   "metadata": {},
   "outputs": [],
   "source": [
    "# Using labels argument of cut\n",
    "bonuses <- cut(attributes, c(2, 3, 5, 8, 12, 15, 17, 18), labels = -3:3)"
   ]
  },
  {
   "cell_type": "code",
   "execution_count": 175,
   "metadata": {},
   "outputs": [
    {
     "data": {
      "text/plain": [
       "bonuses\n",
       " -3  -2  -1   0   1   2   3 \n",
       "  4  46 202 509 181  54   4 "
      ]
     },
     "metadata": {},
     "output_type": "display_data"
    }
   ],
   "source": [
    "table(bonuses)"
   ]
  },
  {
   "cell_type": "code",
   "execution_count": 166,
   "metadata": {},
   "outputs": [
    {
     "data": {
      "text/html": [
       "<ol class=list-inline>\n",
       "\t<li>-1</li>\n",
       "\t<li>2</li>\n",
       "\t<li>0</li>\n",
       "\t<li>0</li>\n",
       "\t<li>0</li>\n",
       "\t<li>-1</li>\n",
       "\t<li>0</li>\n",
       "\t<li>2</li>\n",
       "\t<li>0</li>\n",
       "\t<li>-1</li>\n",
       "</ol>\n"
      ],
      "text/latex": [
       "\\begin{enumerate*}\n",
       "\\item -1\n",
       "\\item 2\n",
       "\\item 0\n",
       "\\item 0\n",
       "\\item 0\n",
       "\\item -1\n",
       "\\item 0\n",
       "\\item 2\n",
       "\\item 0\n",
       "\\item -1\n",
       "\\end{enumerate*}\n"
      ],
      "text/markdown": [
       "1. -1\n",
       "2. 2\n",
       "3. 0\n",
       "4. 0\n",
       "5. 0\n",
       "6. -1\n",
       "7. 0\n",
       "8. 2\n",
       "9. 0\n",
       "10. -1\n",
       "\n",
       "\n"
      ],
      "text/plain": [
       " [1] -1  2  0  0  0 -1  0  2  0 -1"
      ]
     },
     "metadata": {},
     "output_type": "display_data"
    }
   ],
   "source": [
    "c(-3, -2, -1, 0, 1, 2, 3)[attribute_intervals]\n",
    "# Indexing using factor vector will convert factors to numeric codes\n",
    "# (no need to use as.numeric)"
   ]
  }
 ],
 "metadata": {
  "kernelspec": {
   "display_name": "R",
   "language": "R",
   "name": "ir"
  },
  "language_info": {
   "codemirror_mode": "r",
   "file_extension": ".r",
   "mimetype": "text/x-r-source",
   "name": "R",
   "pygments_lexer": "r",
   "version": "3.4.2"
  }
 },
 "nbformat": 4,
 "nbformat_minor": 2
}
