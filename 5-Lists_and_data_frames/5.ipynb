{
 "cells": [
  {
   "cell_type": "code",
   "execution_count": 2,
   "metadata": {},
   "outputs": [
    {
     "data": {
      "text/html": [
       "<ol class=list-inline>\n",
       "\t<li>3</li>\n",
       "\t<li>&lt;NA&gt;</li>\n",
       "</ol>\n"
      ],
      "text/latex": [
       "\\begin{enumerate*}\n",
       "\\item 3\n",
       "\\item <NA>\n",
       "\\end{enumerate*}\n"
      ],
      "text/markdown": [
       "1. 3\n",
       "2. &lt;NA&gt;\n",
       "\n",
       "\n"
      ],
      "text/plain": [
       "[1]  3 NA"
      ]
     },
     "metadata": {},
     "output_type": "display_data"
    }
   ],
   "source": [
    "c(1, 2, 3)[c(3, 4)]"
   ]
  },
  {
   "cell_type": "code",
   "execution_count": 7,
   "metadata": {},
   "outputs": [
    {
     "data": {
      "text/html": [
       "6"
      ],
      "text/latex": [
       "6"
      ],
      "text/markdown": [
       "6"
      ],
      "text/plain": [
       "[1] 6"
      ]
     },
     "metadata": {},
     "output_type": "display_data"
    }
   ],
   "source": [
    "busy_beaver <- c(1, 6, 21, 107)\n",
    "beaver_list <- as.list(busy_beaver)\n",
    "beaver_list[[2]]"
   ]
  },
  {
   "cell_type": "code",
   "execution_count": 16,
   "metadata": {},
   "outputs": [
    {
     "data": {
      "text/html": [
       "1"
      ],
      "text/latex": [
       "1"
      ],
      "text/markdown": [
       "1"
      ],
      "text/plain": [
       "[1] 1"
      ]
     },
     "metadata": {},
     "output_type": "display_data"
    }
   ],
   "source": [
    "combined = c(list(a = 1, b = 2), list(a = 3, c = 4))\n",
    "combined[['a']]"
   ]
  },
  {
   "cell_type": "code",
   "execution_count": 20,
   "metadata": {},
   "outputs": [
    {
     "data": {
      "text/html": [
       "3"
      ],
      "text/latex": [
       "3"
      ],
      "text/markdown": [
       "3"
      ],
      "text/plain": [
       "[1] 3"
      ]
     },
     "metadata": {},
     "output_type": "display_data"
    }
   ],
   "source": [
    "as.list(3)[[1]][1]"
   ]
  },
  {
   "cell_type": "code",
   "execution_count": 25,
   "metadata": {
    "collapsed": true
   },
   "outputs": [],
   "source": [
    "?is.missing"
   ]
  },
  {
   "cell_type": "code",
   "execution_count": 29,
   "metadata": {},
   "outputs": [
    {
     "data": {
      "text/html": [
       "2"
      ],
      "text/latex": [
       "2"
      ],
      "text/markdown": [
       "2"
      ],
      "text/plain": [
       "[1] 2"
      ]
     },
     "metadata": {},
     "output_type": "display_data"
    }
   ],
   "source": [
    "df <- data.frame(x = letters[1:5])\n",
    "df[[c(1, 2)]]"
   ]
  },
  {
   "cell_type": "code",
   "execution_count": 49,
   "metadata": {},
   "outputs": [
    {
     "data": {
      "text/html": [
       "<ol class=list-inline>\n",
       "\t<li>30</li>\n",
       "\t<li>40</li>\n",
       "\t<li>50</li>\n",
       "\t<li>60</li>\n",
       "\t<li>70</li>\n",
       "\t<li>80</li>\n",
       "\t<li>90</li>\n",
       "\t<li>31</li>\n",
       "\t<li>41</li>\n",
       "\t<li>51</li>\n",
       "\t<li>61</li>\n",
       "\t<li>71</li>\n",
       "\t<li>81</li>\n",
       "\t<li>91</li>\n",
       "\t<li>32</li>\n",
       "\t<li>42</li>\n",
       "\t<li>52</li>\n",
       "\t<li>62</li>\n",
       "\t<li>72</li>\n",
       "\t<li>82</li>\n",
       "\t<li>92</li>\n",
       "\t<li>33</li>\n",
       "\t<li>43</li>\n",
       "\t<li>53</li>\n",
       "\t<li>63</li>\n",
       "\t<li>73</li>\n",
       "\t<li>83</li>\n",
       "\t<li>93</li>\n",
       "\t<li>24</li>\n",
       "\t<li>34</li>\n",
       "\t<li>44</li>\n",
       "\t<li>54</li>\n",
       "\t<li>64</li>\n",
       "\t<li>74</li>\n",
       "\t<li>84</li>\n",
       "\t<li>94</li>\n",
       "\t<li>25</li>\n",
       "\t<li>35</li>\n",
       "\t<li>45</li>\n",
       "\t<li>55</li>\n",
       "\t<li>65</li>\n",
       "\t<li>75</li>\n",
       "\t<li>85</li>\n",
       "\t<li>95</li>\n",
       "\t<li>26</li>\n",
       "\t<li>36</li>\n",
       "\t<li>46</li>\n",
       "\t<li>56</li>\n",
       "\t<li>66</li>\n",
       "\t<li>76</li>\n",
       "\t<li>86</li>\n",
       "\t<li>96</li>\n",
       "\t<li>27</li>\n",
       "\t<li>37</li>\n",
       "\t<li>47</li>\n",
       "\t<li>57</li>\n",
       "\t<li>67</li>\n",
       "\t<li>77</li>\n",
       "\t<li>87</li>\n",
       "\t<li>97</li>\n",
       "\t<li>28</li>\n",
       "\t<li>38</li>\n",
       "\t<li>48</li>\n",
       "\t<li>58</li>\n",
       "\t<li>68</li>\n",
       "\t<li>78</li>\n",
       "\t<li>88</li>\n",
       "\t<li>98</li>\n",
       "\t<li>29</li>\n",
       "\t<li>39</li>\n",
       "\t<li>49</li>\n",
       "\t<li>59</li>\n",
       "\t<li>69</li>\n",
       "\t<li>79</li>\n",
       "\t<li>89</li>\n",
       "\t<li>99</li>\n",
       "</ol>\n"
      ],
      "text/latex": [
       "\\begin{enumerate*}\n",
       "\\item 30\n",
       "\\item 40\n",
       "\\item 50\n",
       "\\item 60\n",
       "\\item 70\n",
       "\\item 80\n",
       "\\item 90\n",
       "\\item 31\n",
       "\\item 41\n",
       "\\item 51\n",
       "\\item 61\n",
       "\\item 71\n",
       "\\item 81\n",
       "\\item 91\n",
       "\\item 32\n",
       "\\item 42\n",
       "\\item 52\n",
       "\\item 62\n",
       "\\item 72\n",
       "\\item 82\n",
       "\\item 92\n",
       "\\item 33\n",
       "\\item 43\n",
       "\\item 53\n",
       "\\item 63\n",
       "\\item 73\n",
       "\\item 83\n",
       "\\item 93\n",
       "\\item 24\n",
       "\\item 34\n",
       "\\item 44\n",
       "\\item 54\n",
       "\\item 64\n",
       "\\item 74\n",
       "\\item 84\n",
       "\\item 94\n",
       "\\item 25\n",
       "\\item 35\n",
       "\\item 45\n",
       "\\item 55\n",
       "\\item 65\n",
       "\\item 75\n",
       "\\item 85\n",
       "\\item 95\n",
       "\\item 26\n",
       "\\item 36\n",
       "\\item 46\n",
       "\\item 56\n",
       "\\item 66\n",
       "\\item 76\n",
       "\\item 86\n",
       "\\item 96\n",
       "\\item 27\n",
       "\\item 37\n",
       "\\item 47\n",
       "\\item 57\n",
       "\\item 67\n",
       "\\item 77\n",
       "\\item 87\n",
       "\\item 97\n",
       "\\item 28\n",
       "\\item 38\n",
       "\\item 48\n",
       "\\item 58\n",
       "\\item 68\n",
       "\\item 78\n",
       "\\item 88\n",
       "\\item 98\n",
       "\\item 29\n",
       "\\item 39\n",
       "\\item 49\n",
       "\\item 59\n",
       "\\item 69\n",
       "\\item 79\n",
       "\\item 89\n",
       "\\item 99\n",
       "\\end{enumerate*}\n"
      ],
      "text/markdown": [
       "1. 30\n",
       "2. 40\n",
       "3. 50\n",
       "4. 60\n",
       "5. 70\n",
       "6. 80\n",
       "7. 90\n",
       "8. 31\n",
       "9. 41\n",
       "10. 51\n",
       "11. 61\n",
       "12. 71\n",
       "13. 81\n",
       "14. 91\n",
       "15. 32\n",
       "16. 42\n",
       "17. 52\n",
       "18. 62\n",
       "19. 72\n",
       "20. 82\n",
       "21. 92\n",
       "22. 33\n",
       "23. 43\n",
       "24. 53\n",
       "25. 63\n",
       "26. 73\n",
       "27. 83\n",
       "28. 93\n",
       "29. 24\n",
       "30. 34\n",
       "31. 44\n",
       "32. 54\n",
       "33. 64\n",
       "34. 74\n",
       "35. 84\n",
       "36. 94\n",
       "37. 25\n",
       "38. 35\n",
       "39. 45\n",
       "40. 55\n",
       "41. 65\n",
       "42. 75\n",
       "43. 85\n",
       "44. 95\n",
       "45. 26\n",
       "46. 36\n",
       "47. 46\n",
       "48. 56\n",
       "49. 66\n",
       "50. 76\n",
       "51. 86\n",
       "52. 96\n",
       "53. 27\n",
       "54. 37\n",
       "55. 47\n",
       "56. 57\n",
       "57. 67\n",
       "58. 77\n",
       "59. 87\n",
       "60. 97\n",
       "61. 28\n",
       "62. 38\n",
       "63. 48\n",
       "64. 58\n",
       "65. 68\n",
       "66. 78\n",
       "67. 88\n",
       "68. 98\n",
       "69. 29\n",
       "70. 39\n",
       "71. 49\n",
       "72. 59\n",
       "73. 69\n",
       "74. 79\n",
       "75. 89\n",
       "76. 99\n",
       "\n",
       "\n"
      ],
      "text/plain": [
       " [1] 30 40 50 60 70 80 90 31 41 51 61 71 81 91 32 42 52 62 72 82 92 33 43 53 63\n",
       "[26] 73 83 93 24 34 44 54 64 74 84 94 25 35 45 55 65 75 85 95 26 36 46 56 66 76\n",
       "[51] 86 96 27 37 47 57 67 77 87 97 28 38 48 58 68 78 88 98 29 39 49 59 69 79 89\n",
       "[76] 99"
      ]
     },
     "metadata": {},
     "output_type": "display_data"
    }
   ],
   "source": [
    "# 5.1\n",
    "num_matrix = matrix(c(0:99), nrow = 10, byrow = TRUE)\n",
    "num_matrix[num_matrix > 23]"
   ]
  },
  {
   "cell_type": "code",
   "execution_count": 73,
   "metadata": {},
   "outputs": [
    {
     "data": {
      "text/html": [
       "<ol class=list-inline>\n",
       "\t<li>[0,10)</li>\n",
       "\t<li>[0,10)</li>\n",
       "\t<li>[0,10)</li>\n",
       "\t<li>[0,10)</li>\n",
       "\t<li>[10,20)</li>\n",
       "\t<li>[20,30)</li>\n",
       "\t<li>[30,40)</li>\n",
       "\t<li>[40,50)</li>\n",
       "\t<li>[60,70)</li>\n",
       "\t<li>[80,90)</li>\n",
       "</ol>\n"
      ],
      "text/latex": [
       "\\begin{enumerate*}\n",
       "\\item {[}0,10)\n",
       "\\item {[}0,10)\n",
       "\\item {[}0,10)\n",
       "\\item {[}0,10)\n",
       "\\item {[}10,20)\n",
       "\\item {[}20,30)\n",
       "\\item {[}30,40)\n",
       "\\item {[}40,50)\n",
       "\\item {[}60,70)\n",
       "\\item {[}80,90)\n",
       "\\end{enumerate*}\n"
      ],
      "text/markdown": [
       "1. [0,10)\n",
       "2. [0,10)\n",
       "3. [0,10)\n",
       "4. [0,10)\n",
       "5. [10,20)\n",
       "6. [20,30)\n",
       "7. [30,40)\n",
       "8. [40,50)\n",
       "9. [60,70)\n",
       "10. [80,90)\n",
       "\n",
       "\n"
      ],
      "text/plain": [
       " [1] [0,10)  [0,10)  [0,10)  [0,10)  [10,20) [20,30) [30,40) [40,50) [60,70)\n",
       "[10] [80,90)\n",
       "10 Levels: [0,10) [10,20) [20,30) [30,40) [40,50) [50,60) [60,70) ... [90,100]"
      ]
     },
     "metadata": {},
     "output_type": "display_data"
    }
   ],
   "source": [
    "x <- 0:99\n",
    "sqrt_x <- sqrt(x)\n",
    "square_numbers <- x[sqrt_x == floor(sqrt_x)]\n",
    "groups <- cut(\n",
    "c(square_numbers),\n",
    "seq.int(min(x), max(x)+1, 10),\n",
    "include.lowest = TRUE,\n",
    "right = FALSE)\n",
    "\n",
    "groups"
   ]
  },
  {
   "cell_type": "code",
   "execution_count": 76,
   "metadata": {},
   "outputs": [
    {
     "data": {
      "text/html": [
       "<dl>\n",
       "\t<dt>$`[0,10)`</dt>\n",
       "\t\t<dd><ol class=list-inline>\n",
       "\t<li>0</li>\n",
       "\t<li>1</li>\n",
       "\t<li>4</li>\n",
       "\t<li>9</li>\n",
       "</ol>\n",
       "</dd>\n",
       "\t<dt>$`[10,20)`</dt>\n",
       "\t\t<dd>16</dd>\n",
       "\t<dt>$`[20,30)`</dt>\n",
       "\t\t<dd>25</dd>\n",
       "\t<dt>$`[30,40)`</dt>\n",
       "\t\t<dd>36</dd>\n",
       "\t<dt>$`[40,50)`</dt>\n",
       "\t\t<dd>49</dd>\n",
       "\t<dt>$`[50,60)`</dt>\n",
       "\t\t<dd></dd>\n",
       "\t<dt>$`[60,70)`</dt>\n",
       "\t\t<dd>64</dd>\n",
       "\t<dt>$`[70,80)`</dt>\n",
       "\t\t<dd></dd>\n",
       "\t<dt>$`[80,90)`</dt>\n",
       "\t\t<dd>81</dd>\n",
       "\t<dt>$`[90,100]`</dt>\n",
       "\t\t<dd></dd>\n",
       "</dl>\n"
      ],
      "text/latex": [
       "\\begin{description}\n",
       "\\item[\\$`{[}0,10)`] \\begin{enumerate*}\n",
       "\\item 0\n",
       "\\item 1\n",
       "\\item 4\n",
       "\\item 9\n",
       "\\end{enumerate*}\n",
       "\n",
       "\\item[\\$`{[}10,20)`] 16\n",
       "\\item[\\$`{[}20,30)`] 25\n",
       "\\item[\\$`{[}30,40)`] 36\n",
       "\\item[\\$`{[}40,50)`] 49\n",
       "\\item[\\$`{[}50,60)`] \n",
       "\\item[\\$`{[}60,70)`] 64\n",
       "\\item[\\$`{[}70,80)`] \n",
       "\\item[\\$`{[}80,90)`] 81\n",
       "\\item[\\$`{[}90,100{]}`] \n",
       "\\end{description}\n"
      ],
      "text/markdown": [
       "$`[0,10)`\n",
       ":   1. 0\n",
       "2. 1\n",
       "3. 4\n",
       "4. 9\n",
       "\n",
       "\n",
       "\n",
       "$`[10,20)`\n",
       ":   16\n",
       "$`[20,30)`\n",
       ":   25\n",
       "$`[30,40)`\n",
       ":   36\n",
       "$`[40,50)`\n",
       ":   49\n",
       "$`[50,60)`\n",
       ":   \n",
       "$`[60,70)`\n",
       ":   64\n",
       "$`[70,80)`\n",
       ":   \n",
       "$`[80,90)`\n",
       ":   81\n",
       "$`[90,100]`\n",
       ":   \n",
       "\n",
       "\n"
      ],
      "text/plain": [
       "$`[0,10)`\n",
       "[1] 0 1 4 9\n",
       "\n",
       "$`[10,20)`\n",
       "[1] 16\n",
       "\n",
       "$`[20,30)`\n",
       "[1] 25\n",
       "\n",
       "$`[30,40)`\n",
       "[1] 36\n",
       "\n",
       "$`[40,50)`\n",
       "[1] 49\n",
       "\n",
       "$`[50,60)`\n",
       "integer(0)\n",
       "\n",
       "$`[60,70)`\n",
       "[1] 64\n",
       "\n",
       "$`[70,80)`\n",
       "integer(0)\n",
       "\n",
       "$`[80,90)`\n",
       "[1] 81\n",
       "\n",
       "$`[90,100]`\n",
       "integer(0)\n"
      ]
     },
     "metadata": {},
     "output_type": "display_data"
    }
   ],
   "source": [
    "split(square_numbers, groups)"
   ]
  },
  {
   "cell_type": "code",
   "execution_count": 91,
   "metadata": {},
   "outputs": [
    {
     "data": {
      "text/html": [
       "<dl class=dl-horizontal>\n",
       "\t<dt>Sepal.Length</dt>\n",
       "\t\t<dd>5.84333333333333</dd>\n",
       "\t<dt>Sepal.Width</dt>\n",
       "\t\t<dd>3.05733333333333</dd>\n",
       "\t<dt>Petal.Length</dt>\n",
       "\t\t<dd>3.758</dd>\n",
       "\t<dt>Petal.Width</dt>\n",
       "\t\t<dd>1.19933333333333</dd>\n",
       "</dl>\n"
      ],
      "text/latex": [
       "\\begin{description*}\n",
       "\\item[Sepal.Length] 5.84333333333333\n",
       "\\item[Sepal.Width] 3.05733333333333\n",
       "\\item[Petal.Length] 3.758\n",
       "\\item[Petal.Width] 1.19933333333333\n",
       "\\end{description*}\n"
      ],
      "text/markdown": [
       "Sepal.Length\n",
       ":   5.84333333333333Sepal.Width\n",
       ":   3.05733333333333Petal.Length\n",
       ":   3.758Petal.Width\n",
       ":   1.19933333333333\n",
       "\n"
      ],
      "text/plain": [
       "Sepal.Length  Sepal.Width Petal.Length  Petal.Width \n",
       "    5.843333     3.057333     3.758000     1.199333 "
      ]
     },
     "metadata": {},
     "output_type": "display_data"
    }
   ],
   "source": [
    "# 5.2\n",
    "colMeans(iris_df[, 1:4])"
   ]
  },
  {
   "cell_type": "code",
   "execution_count": 104,
   "metadata": {},
   "outputs": [
    {
     "data": {
      "text/html": [
       "TRUE"
      ],
      "text/latex": [
       "TRUE"
      ],
      "text/markdown": [
       "TRUE"
      ],
      "text/plain": [
       "[1] TRUE"
      ]
     },
     "metadata": {},
     "output_type": "display_data"
    }
   ],
   "source": [
    "# 5.3\n",
    "beaver1['id'] <- 1\n",
    "beaver2['id'] <- 2\n",
    "beaver3 = rbind(beaver1, beaver2)\n",
    "nrow(beaver1) + nrow(beaver2) == nrow(beaver3)"
   ]
  }
 ],
 "metadata": {
  "kernelspec": {
   "display_name": "R",
   "language": "R",
   "name": "ir"
  },
  "language_info": {
   "codemirror_mode": "r",
   "file_extension": ".r",
   "mimetype": "text/x-r-source",
   "name": "R",
   "pygments_lexer": "r",
   "version": "3.4.2"
  }
 },
 "nbformat": 4,
 "nbformat_minor": 2
}
